{
  "nbformat": 4,
  "nbformat_minor": 0,
  "metadata": {
    "kernelspec": {
      "display_name": "Python 3",
      "language": "python",
      "name": "python3"
    },
    "language_info": {
      "codemirror_mode": {
        "name": "ipython",
        "version": 3
      },
      "file_extension": ".py",
      "mimetype": "text/x-python",
      "name": "python",
      "nbconvert_exporter": "python",
      "pygments_lexer": "ipython3",
      "version": "3.6.5"
    },
    "colab": {
      "name": "Lab7/Task1.ipynb",
      "provenance": [],
      "include_colab_link": true
    }
  },
  "cells": [
    {
      "cell_type": "markdown",
      "metadata": {
        "id": "view-in-github",
        "colab_type": "text"
      },
      "source": [
        "<a href=\"https://colab.research.google.com/github/ag20327/CE888/blob/main/Lab7/Task1CNN.ipynb\" target=\"_parent\"><img src=\"https://colab.research.google.com/assets/colab-badge.svg\" alt=\"Open In Colab\"/></a>"
      ]
    },
    {
      "cell_type": "markdown",
      "metadata": {
        "id": "vwRGEQbzGpYQ"
      },
      "source": [
        "# First CNN model for MNIST Dataset\n",
        "\n",
        "* MNIST Dataset is ''Hello World'' of Image Recognition\n",
        "\n",
        "* [Dataset HomePage](http://yann.lecun.com/exdb/mnist/)\n",
        "\n",
        "* History of MNIST Dataset [Watch here](https://www.youtube.com/watch?v=oKzNUGz21JM)\n",
        "\n",
        "\n",
        "---\n",
        "The MNIST database of handwritten digits, available from this page, has a training set of 60,000 examples, and a \n",
        "test set of 10,000 examples. It is a subset of a larger set available from NIST. The digits have been size-normalized and centered in a fixed-size image.\n",
        "\n",
        "![Kitten](https://camo.githubusercontent.com/01c057a753e92a9bc70b8c45d62b295431851c09cffadf53106fc0aea7e2843f/687474703a2f2f692e7974696d672e636f6d2f76692f3051493378675875422d512f687164656661756c742e6a7067)\n"
      ]
    },
    {
      "cell_type": "markdown",
      "metadata": {
        "id": "PhmJOHCpJD_w"
      },
      "source": [
        "# Let's start building our first CNN Model"
      ]
    },
    {
      "cell_type": "code",
      "metadata": {
        "id": "lSyHCSV7jymI"
      },
      "source": [
        "from keras import layers\n",
        "from keras import models"
      ],
      "execution_count": 3,
      "outputs": []
    },
    {
      "cell_type": "markdown",
      "metadata": {
        "id": "oWNzCYUUjymN"
      },
      "source": [
        "Importantly, a convnet takes as input tensors of shape (image_height, image_width,\n",
        "image_channels) (not including the batch dimension). In this case, we’ll configure\n",
        "the convnet to process inputs of size (28, 28, 1), which is the format of MNIST\n",
        "images. We’ll do this by passing the argument input_shape=(28, 28, 1) to the first\n",
        "layer."
      ]
    },
    {
      "cell_type": "markdown",
      "metadata": {
        "id": "dM4JLEpwjymN"
      },
      "source": [
        "#### Instantiating a small convnet"
      ]
    },
    {
      "cell_type": "code",
      "metadata": {
        "id": "p-OnpExGjymO",
        "colab": {
          "base_uri": "https://localhost:8080/"
        },
        "outputId": "5b3fb01e-33b2-48e5-f407-74900410f650"
      },
      "source": [
        "model = models.Sequential()\n",
        "model.add(layers.Conv2D(32, (3, 3), activation='relu', input_shape=(28, 28, 1)))\n",
        "model.add(layers.MaxPooling2D((2, 2)))\n",
        "model.add(layers.Conv2D(64, (3, 3), activation='relu'))\n",
        "model.add(layers.MaxPooling2D((2, 2)))\n",
        "model.add(layers.Conv2D(64, (3, 3), activation='relu'))\n",
        "model.summary()"
      ],
      "execution_count": 4,
      "outputs": [
        {
          "output_type": "stream",
          "text": [
            "Model: \"sequential\"\n",
            "_________________________________________________________________\n",
            "Layer (type)                 Output Shape              Param #   \n",
            "=================================================================\n",
            "conv2d (Conv2D)              (None, 26, 26, 32)        320       \n",
            "_________________________________________________________________\n",
            "max_pooling2d (MaxPooling2D) (None, 13, 13, 32)        0         \n",
            "_________________________________________________________________\n",
            "conv2d_1 (Conv2D)            (None, 11, 11, 64)        18496     \n",
            "_________________________________________________________________\n",
            "max_pooling2d_1 (MaxPooling2 (None, 5, 5, 64)          0         \n",
            "_________________________________________________________________\n",
            "conv2d_2 (Conv2D)            (None, 3, 3, 64)          36928     \n",
            "=================================================================\n",
            "Total params: 55,744\n",
            "Trainable params: 55,744\n",
            "Non-trainable params: 0\n",
            "_________________________________________________________________\n"
          ],
          "name": "stdout"
        }
      ]
    },
    {
      "cell_type": "markdown",
      "metadata": {
        "id": "7gcVG3xkjymR"
      },
      "source": [
        "#### Adding a classifier on top of the convnet"
      ]
    },
    {
      "cell_type": "code",
      "metadata": {
        "id": "C2DfhDJYjymR",
        "colab": {
          "base_uri": "https://localhost:8080/"
        },
        "outputId": "ffdac90c-9aa2-4011-e261-f326240be8be"
      },
      "source": [
        "model.add(layers.Flatten())\n",
        "model.add(layers.Dense(64, activation='relu'))\n",
        "model.add(layers.Dense(10, activation='softmax'))\n",
        "model.summary()"
      ],
      "execution_count": 5,
      "outputs": [
        {
          "output_type": "stream",
          "text": [
            "Model: \"sequential\"\n",
            "_________________________________________________________________\n",
            "Layer (type)                 Output Shape              Param #   \n",
            "=================================================================\n",
            "conv2d (Conv2D)              (None, 26, 26, 32)        320       \n",
            "_________________________________________________________________\n",
            "max_pooling2d (MaxPooling2D) (None, 13, 13, 32)        0         \n",
            "_________________________________________________________________\n",
            "conv2d_1 (Conv2D)            (None, 11, 11, 64)        18496     \n",
            "_________________________________________________________________\n",
            "max_pooling2d_1 (MaxPooling2 (None, 5, 5, 64)          0         \n",
            "_________________________________________________________________\n",
            "conv2d_2 (Conv2D)            (None, 3, 3, 64)          36928     \n",
            "_________________________________________________________________\n",
            "flatten (Flatten)            (None, 576)               0         \n",
            "_________________________________________________________________\n",
            "dense (Dense)                (None, 64)                36928     \n",
            "_________________________________________________________________\n",
            "dense_1 (Dense)              (None, 10)                650       \n",
            "=================================================================\n",
            "Total params: 93,322\n",
            "Trainable params: 93,322\n",
            "Non-trainable params: 0\n",
            "_________________________________________________________________\n"
          ],
          "name": "stdout"
        }
      ]
    },
    {
      "cell_type": "markdown",
      "metadata": {
        "id": "NOKVF4nKjymU"
      },
      "source": [
        "### Training the convnet on MNIST images"
      ]
    },
    {
      "cell_type": "code",
      "metadata": {
        "id": "oIcgUbbUjymV"
      },
      "source": [
        "from keras.datasets import mnist\n",
        "from keras.utils import to_categorical"
      ],
      "execution_count": 6,
      "outputs": []
    },
    {
      "cell_type": "markdown",
      "metadata": {
        "id": "ZnJ2Pfs_jymX"
      },
      "source": [
        "#### Load Data"
      ]
    },
    {
      "cell_type": "code",
      "metadata": {
        "id": "JpHGHE9MjymY",
        "colab": {
          "base_uri": "https://localhost:8080/"
        },
        "outputId": "da68da0d-bf8d-4d75-c69c-5d24fb884d22"
      },
      "source": [
        "(train_images, train_labels), (test_images, test_labels) = mnist.load_data()\n",
        "train_images = train_images.reshape((60000, 28, 28, 1))\n",
        "train_images = train_images.astype('float32') / 255\n",
        "test_images = test_images.reshape((10000, 28, 28, 1))\n",
        "test_images = test_images.astype('float32') / 255\n",
        "train_labels = to_categorical(train_labels)\n",
        "test_labels = to_categorical(test_labels)"
      ],
      "execution_count": 7,
      "outputs": [
        {
          "output_type": "stream",
          "text": [
            "Downloading data from https://storage.googleapis.com/tensorflow/tf-keras-datasets/mnist.npz\n",
            "11493376/11490434 [==============================] - 0s 0us/step\n"
          ],
          "name": "stdout"
        }
      ]
    },
    {
      "cell_type": "markdown",
      "metadata": {
        "id": "4HoTLrfSjymd"
      },
      "source": [
        "#### compile and fit model "
      ]
    },
    {
      "cell_type": "code",
      "metadata": {
        "id": "i23FDtC9jyme",
        "colab": {
          "base_uri": "https://localhost:8080/"
        },
        "outputId": "2e7ea464-9116-4eaf-ac8a-5ca8850970cc"
      },
      "source": [
        "model.compile(optimizer='rmsprop', \n",
        "              loss='categorical_crossentropy',\n",
        "              metrics=['accuracy'])\n",
        "history = model.fit(train_images, train_labels, epochs=5, batch_size=64, validation_split=0.2)"
      ],
      "execution_count": 33,
      "outputs": [
        {
          "output_type": "stream",
          "text": [
            "Epoch 1/5\n",
            "750/750 [==============================] - 43s 56ms/step - loss: 0.0170 - accuracy: 0.9945 - val_loss: 0.0421 - val_accuracy: 0.9892\n",
            "Epoch 2/5\n",
            "750/750 [==============================] - 41s 55ms/step - loss: 0.0134 - accuracy: 0.9957 - val_loss: 0.0468 - val_accuracy: 0.9893\n",
            "Epoch 3/5\n",
            "750/750 [==============================] - 42s 56ms/step - loss: 0.0100 - accuracy: 0.9968 - val_loss: 0.0493 - val_accuracy: 0.9903\n",
            "Epoch 4/5\n",
            "750/750 [==============================] - 42s 56ms/step - loss: 0.0070 - accuracy: 0.9978 - val_loss: 0.0475 - val_accuracy: 0.9902\n",
            "Epoch 5/5\n",
            "750/750 [==============================] - 41s 55ms/step - loss: 0.0073 - accuracy: 0.9974 - val_loss: 0.0529 - val_accuracy: 0.9900\n"
          ],
          "name": "stdout"
        }
      ]
    },
    {
      "cell_type": "markdown",
      "metadata": {
        "id": "9zU8iI5ojymg"
      },
      "source": [
        "#### evaluate model"
      ]
    },
    {
      "cell_type": "code",
      "metadata": {
        "id": "Z3VeaL1Njymh",
        "colab": {
          "base_uri": "https://localhost:8080/"
        },
        "outputId": "0c1c1c22-82ba-45f1-c057-8651e100a5b5"
      },
      "source": [
        "test_loss, test_acc = model.evaluate(test_images, test_labels)\n",
        "test_acc"
      ],
      "execution_count": 34,
      "outputs": [
        {
          "output_type": "stream",
          "text": [
            "313/313 [==============================] - 3s 10ms/step - loss: 0.0375 - accuracy: 0.9923\n"
          ],
          "name": "stdout"
        },
        {
          "output_type": "execute_result",
          "data": {
            "text/plain": [
              "0.9922999739646912"
            ]
          },
          "metadata": {
            "tags": []
          },
          "execution_count": 34
        }
      ]
    },
    {
      "cell_type": "code",
      "metadata": {
        "id": "wXNZOY7Sjymj",
        "colab": {
          "base_uri": "https://localhost:8080/",
          "height": 545
        },
        "outputId": "3fff5b7b-4bf5-4ed5-ddc5-24ee47c9add8"
      },
      "source": [
        "import matplotlib.pyplot as plt\n",
        "\n",
        "accuracy = history.history['accuracy']\n",
        "val_accuracy = history.history['val_accuracy']\n",
        "loss = history.history['loss']\n",
        "val_loss = history.history['val_loss']\n",
        "\n",
        "epochs = range(1, len(accuracy) + 1)\n",
        "\n",
        "plt.plot(epochs, accuracy, 'bo', label='Training acc')\n",
        "plt.plot(epochs, val_accuracy, 'b', label='Validation acc')\n",
        "plt.title('Training and validation accuracy')\n",
        "plt.legend()\n",
        "\n",
        "plt.figure()\n",
        "\n",
        "plt.plot(epochs, loss, 'bo', label='Training loss')\n",
        "plt.plot(epochs, val_loss, 'b', label='Validation loss')\n",
        "plt.title('Training and validation loss')\n",
        "plt.legend()\n",
        "\n",
        "plt.show()"
      ],
      "execution_count": 12,
      "outputs": [
        {
          "output_type": "display_data",
          "data": {
            "image/png": "[encoded data removed]",
            "text/plain": [
              "<Figure size 432x288 with 1 Axes>"
            ]
          },
          "metadata": {
            "tags": [],
            "needs_background": "light"
          }
        },
        {
          "output_type": "display_data",
          "data": {
            "image/png": "[encoded data removed]",
            "text/plain": [
              "<Figure size 432x288 with 1 Axes>"
            ]
          },
          "metadata": {
            "tags": [],
            "needs_background": "light"
          }
        }
      ]
    },
    {
      "cell_type": "markdown",
      "metadata": {
        "id": "dsQMc0Iojyml"
      },
      "source": [
        "## Task 1\n",
        "\n",
        "Change the activation function and other parameters such as optimizer to see the effect on the network and it's performance. If possible create a grid search. "
      ]
    },
    {
      "cell_type": "markdown",
      "metadata": {
        "id": "qi5MEz_lPtON"
      },
      "source": [
        "Effect of changing the activation function"
      ]
    },
    {
      "cell_type": "markdown",
      "metadata": {
        "id": "dUr9WWY_Rno3"
      },
      "source": [
        "Effect on changing the optimizer"
      ]
    },
    {
      "cell_type": "markdown",
      "metadata": {
        "id": "jksxG01xDFMS"
      },
      "source": [
        "Exploring with different optimizer and activation function showed that \r\n",
        "Adam with Relu yielded the best result\r\n",
        "\r\n",
        "![image.png](data:image/png;base64,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)"
      ]
    },
    {
      "cell_type": "markdown",
      "metadata": {
        "id": "-q09OHhuPUwt"
      },
      "source": [
        "**ConvNet**"
      ]
    },
    {
      "cell_type": "markdown",
      "metadata": {
        "id": "X37-W3B1NsHe"
      },
      "source": [
        "#### Load Data"
      ]
    },
    {
      "cell_type": "code",
      "metadata": {
        "id": "l6t_wvvyNsHk"
      },
      "source": [
        "(train_images, train_labels), (test_images, test_labels) = mnist.load_data()\n",
        "train_images = train_images.reshape((60000, 28, 28, 1))\n",
        "train_images = train_images.astype('float32') / 255\n",
        "test_images = test_images.reshape((10000, 28, 28, 1))\n",
        "test_images = test_images.astype('float32') / 255\n",
        "train_labels = to_categorical(train_labels)\n",
        "test_labels = to_categorical(test_labels)"
      ],
      "execution_count": 13,
      "outputs": []
    },
    {
      "cell_type": "code",
      "metadata": {
        "colab": {
          "base_uri": "https://localhost:8080/"
        },
        "id": "78Zpx77NH1s5",
        "outputId": "d6d5c7c9-6e15-429a-e2e4-efae8d7f896d"
      },
      "source": [
        "activ='relu'\r\n",
        "opti='adam'\r\n",
        "\r\n",
        "model = models.Sequential()\r\n",
        "model.add(layers.Conv2D(32, (3, 3), activation=activ, input_shape=(28, 28, 1)))\r\n",
        "model.add(layers.MaxPooling2D((2, 2)))\r\n",
        "model.add(layers.Conv2D(64, (3, 3), activation=activ))\r\n",
        "model.add(layers.MaxPooling2D((2, 2)))\r\n",
        "model.add(layers.Conv2D(64, (3, 3), activation=activ))\r\n",
        "model.add(layers.Flatten())\r\n",
        "model.add(layers.Dense(64, activation=activ))\r\n",
        "model.add(layers.Dense(10, activation='softmax'))\r\n",
        "\r\n",
        "model.compile(optimizer=opti, \r\n",
        "              loss='categorical_crossentropy',\r\n",
        "              metrics=['accuracy'])\r\n",
        "history = model.fit(train_images, train_labels, epochs=5, batch_size=64, validation_split=0.2)\r\n",
        "print(\" \")\r\n",
        "test_loss, test_acc = model.evaluate(test_images, test_labels)\r\n",
        "test_acc"
      ],
      "execution_count": 39,
      "outputs": [
        {
          "output_type": "stream",
          "text": [
            "Epoch 1/5\n",
            "750/750 [==============================] - 42s 56ms/step - loss: 0.4791 - accuracy: 0.8526 - val_loss: 0.0733 - val_accuracy: 0.9781\n",
            "Epoch 2/5\n",
            "750/750 [==============================] - 42s 56ms/step - loss: 0.0614 - accuracy: 0.9811 - val_loss: 0.0452 - val_accuracy: 0.9867\n",
            "Epoch 3/5\n",
            "750/750 [==============================] - 41s 55ms/step - loss: 0.0383 - accuracy: 0.9888 - val_loss: 0.0459 - val_accuracy: 0.9861\n",
            "Epoch 4/5\n",
            "750/750 [==============================] - 41s 55ms/step - loss: 0.0290 - accuracy: 0.9905 - val_loss: 0.0405 - val_accuracy: 0.9875\n",
            "Epoch 5/5\n",
            "750/750 [==============================] - 41s 55ms/step - loss: 0.0241 - accuracy: 0.9918 - val_loss: 0.0352 - val_accuracy: 0.9889\n",
            " \n",
            "313/313 [==============================] - 3s 10ms/step - loss: 0.0306 - accuracy: 0.9906\n"
          ],
          "name": "stdout"
        },
        {
          "output_type": "execute_result",
          "data": {
            "text/plain": [
              "0.9905999898910522"
            ]
          },
          "metadata": {
            "tags": []
          },
          "execution_count": 39
        }
      ]
    },
    {
      "cell_type": "markdown",
      "metadata": {
        "id": "mr6Nni95PXi-"
      },
      "source": [
        "**Grid Search**"
      ]
    },
    {
      "cell_type": "code",
      "metadata": {
        "id": "ENR3o342Pc4c"
      },
      "source": [
        "from sklearn.pipeline import Pipeline\r\n",
        "from sklearn.model_selection import GridSearchCV\r\n",
        "from keras.layers import Dense, Input, Dropout\r\n",
        "from keras import Sequential\r\n",
        "from keras.wrappers.scikit_learn import KerasClassifier\r\n",
        "from sklearn.model_selection import StratifiedKFold\r\n",
        "from sklearn.preprocessing import PolynomialFeatures\r\n",
        "from sklearn.preprocessing import StandardScaler\r\n",
        "from sklearn.model_selection import ParameterGrid\r\n"
      ],
      "execution_count": 45,
      "outputs": []
    },
    {
      "cell_type": "markdown",
      "metadata": {
        "id": "3dqJuGuVfXBg"
      },
      "source": [
        "Best Epoch and Batch size"
      ]
    },
    {
      "cell_type": "code",
      "metadata": {
        "id": "GKt1X4lcPfze"
      },
      "source": [
        "def create_model():\r\n",
        "  model = models.Sequential(optimizer='adam',activation='relu')\r\n",
        "  model.add(layers.Conv2D(32, (3, 3), activation=activation, input_shape=(28, 28, 1)))\r\n",
        "  model.add(layers.MaxPooling2D((2, 2)))\r\n",
        "  model.add(layers.Conv2D(64, (3, 3), activation=activation))\r\n",
        "  model.add(layers.MaxPooling2D((2, 2)))\r\n",
        "  model.add(layers.Conv2D(64, (3, 3), activation=activation))\r\n",
        "  model.add(layers.Flatten())\r\n",
        "  model.add(layers.Dense(64, activation=activation))\r\n",
        "  model.add(layers.Dense(10, activation='softmax'))\r\n",
        "  model.compile(loss='binary_crossentropy', optimizer=optimizer, metrics=['accuracy'])\r\n",
        "  return model"
      ],
      "execution_count": 43,
      "outputs": []
    },
    {
      "cell_type": "code",
      "metadata": {
        "id": "FiTxbfE1ch0E"
      },
      "source": [
        "model = KerasClassifier(build_fn=create_model, verbose=0)"
      ],
      "execution_count": 59,
      "outputs": []
    },
    {
      "cell_type": "code",
      "metadata": {
        "id": "fw_aNMuOSX27"
      },
      "source": [
        "# define the grid search parameters\r\n",
        "batch_size = [10]#, 20, 40, 60, 80, 100]\r\n",
        "epochs = [10]#, 50, 100]\r\n",
        "optimizer = ['SGD', 'RMSprop', 'Adagrad', 'Adadelta', 'Adam', 'Adamax', 'Nadam']\r\n",
        "activation = ['softmax', 'softplus', 'softsign', 'relu', 'tanh', 'sigmoid', 'hard_sigmoid', 'linear']\r\n",
        "param_grid = dict(batch_size=batch_size, epochs=epochs,optimizer=optimizer,activation=activation)\r\n",
        "list(ParameterGrid(param_grid))"
      ],
      "execution_count": null,
      "outputs": []
    },
    {
      "cell_type": "code",
      "metadata": {
        "id": "2SnVfWy9dWJj"
      },
      "source": [
        "grid = GridSearchCV(estimator=model, param_grid=param_grid, n_jobs=-1, cv=3)\r\n",
        "grid_result = grid.fit(train_images, train_labels)"
      ],
      "execution_count": 67,
      "outputs": []
    },
    {
      "cell_type": "code",
      "metadata": {
        "colab": {
          "base_uri": "https://localhost:8080/"
        },
        "id": "7613rJ6GV-L7",
        "outputId": "54101790-22c7-4fb3-9ccb-3157b522d3e2"
      },
      "source": [
        "print(\"Best: %f using %s\" % (grid_result.best_score_, grid_result.best_params_))"
      ],
      "execution_count": 68,
      "outputs": [
        {
          "output_type": "stream",
          "text": [
            "Best: 0.979467 using {'batch_size': 10, 'epochs': 10}\n"
          ],
          "name": "stdout"
        }
      ]
    }
  ]
}