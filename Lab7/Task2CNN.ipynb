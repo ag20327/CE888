{
  "nbformat": 4,
  "nbformat_minor": 0,
  "metadata": {
    "colab": {
      "name": "Lab7/Task2CNN.ipynb",
      "provenance": [],
      "collapsed_sections": [],
      "include_colab_link": true
    },
    "kernelspec": {
      "name": "python3",
      "display_name": "Python 3"
    },
    "accelerator": "GPU"
  },
  "cells": [
    {
      "cell_type": "markdown",
      "metadata": {
        "id": "view-in-github",
        "colab_type": "text"
      },
      "source": [
        "<a href=\"https://colab.research.google.com/github/ag20327/CE888/blob/main/Lab7/Task2CNN.ipynb\" target=\"_parent\"><img src=\"https://colab.research.google.com/assets/colab-badge.svg\" alt=\"Open In Colab\"/></a>"
      ]
    },
    {
      "cell_type": "markdown",
      "metadata": {
        "id": "qTh9DiKVslsJ"
      },
      "source": [
        "## Dogs vs. Cats \n",
        "\n",
        "In this competition, you'll write an algorithm to classify whether images contain either a dog or a cat.  This is easy for humans, dogs, and cats. Your computer will find it a bit more difficult.\n",
        "\n",
        "![alt text](https://miro.medium.com/max/3000/1*bhFifratH9DjKqMBTeQG5A.gif)\n",
        "\n",
        "Ref: https://medium.com/@thegrigorian/rolling-in-the-deep-cnn-c8d3f7108c8c"
      ]
    },
    {
      "cell_type": "markdown",
      "metadata": {
        "id": "RSBI-_mSSY1g"
      },
      "source": [
        "Get your API Key from Kaggle using following steps:\n",
        "1. Login to [Kaggle](https://www.kaggle.com/) or Register if you don't have account\n",
        "2. Open Dataset (https://www.kaggle.com/c/dogs-vs-cats/rules) and accept terms and condition. \n",
        "3. On the top right corner click on your Icon and go to accounts and press a button \"Create New API Token\". It will download a JSON file containing your username and key. \n",
        "4. Now, paste both below. \n"
      ]
    },
    {
      "cell_type": "code",
      "metadata": {
        "id": "YmXSOc0tZIGA",
        "colab": {
          "base_uri": "https://localhost:8080/"
        },
        "outputId": "cb02ba06-83fe-4e82-8652-09bef8602114"
      },
      "source": [
        "import os\n",
        "os.environ['KAGGLE_USERNAME'] = \"djatrezz\" # username from the json file\n",
        "os.environ['KAGGLE_KEY'] = \"7eb6734769400522d5bf17bfadefab6f\" # key from the json file\n",
        "!kaggle competitions download -c dogs-vs-cats # api copied from kaggle (https://www.kaggle.com/c/dogs-vs-cats/data)"
      ],
      "execution_count": 1,
      "outputs": [
        {
          "output_type": "stream",
          "text": [
            "Warning: Looks like you're using an outdated API Version, please consider updating (server 1.5.10 / client 1.5.4)\n",
            "Downloading train.zip to /content\n",
            " 96% 524M/543M [00:03<00:00, 176MB/s]\n",
            "100% 543M/543M [00:03<00:00, 176MB/s]\n",
            "Downloading test1.zip to /content\n",
            " 95% 258M/271M [00:02<00:00, 91.0MB/s]\n",
            "100% 271M/271M [00:02<00:00, 108MB/s] \n",
            "Downloading sampleSubmission.csv to /content\n",
            "  0% 0.00/86.8k [00:00<?, ?B/s]\n",
            "100% 86.8k/86.8k [00:00<00:00, 84.4MB/s]\n"
          ],
          "name": "stdout"
        }
      ]
    },
    {
      "cell_type": "code",
      "metadata": {
        "id": "PiwIL8d1n7eS",
        "colab": {
          "base_uri": "https://localhost:8080/"
        },
        "outputId": "d9a31a02-02ee-4d51-c10e-033650448b4f"
      },
      "source": [
        "# Unzip training data\n",
        "from zipfile import ZipFile\n",
        "file_name = \"/content/train.zip\"\n",
        "with ZipFile(file_name, 'r') as zip:\n",
        "  zip.extractall()\n",
        "  print('done')"
      ],
      "execution_count": 2,
      "outputs": [
        {
          "output_type": "stream",
          "text": [
            "done\n"
          ],
          "name": "stdout"
        }
      ]
    },
    {
      "cell_type": "code",
      "metadata": {
        "id": "sa2Bj5i7pPKV",
        "colab": {
          "base_uri": "https://localhost:8080/"
        },
        "outputId": "38d35031-16d0-4970-afcb-46e03a9ae464"
      },
      "source": [
        "# Get all the paths\n",
        "data_dir_list = os.listdir('/content/train')\n",
        "#print(data_dir_list)\n",
        "path, dirs, files = next(os.walk(\"/content/train\"))\n",
        "file_count = len(files)\n",
        "print(file_count)"
      ],
      "execution_count": 3,
      "outputs": [
        {
          "output_type": "stream",
          "text": [
            "25000\n"
          ],
          "name": "stdout"
        }
      ]
    },
    {
      "cell_type": "code",
      "metadata": {
        "id": "0ERlHkfHqpK8"
      },
      "source": [
        "# Make new base directory\n",
        "original_dataset_dir = '/content/train'\n",
        "base_dir = '/content/cats_and_dogs_small'\n",
        "os.mkdir(base_dir)"
      ],
      "execution_count": 4,
      "outputs": []
    },
    {
      "cell_type": "code",
      "metadata": {
        "id": "AANB1UJ6rQhM"
      },
      "source": [
        "train_dir = os.path.join(base_dir, 'train')\n",
        "os.mkdir(train_dir)\n",
        "\n",
        "validation_dir = os.path.join(base_dir, 'validation')\n",
        "os.mkdir(validation_dir)\n",
        "\n",
        "test_dir = os.path.join(base_dir, 'test')\n",
        "os.mkdir(test_dir)\n",
        "\n",
        "train_cats_dir = os.path.join(train_dir, 'cats')\n",
        "os.mkdir(train_cats_dir)\n",
        "\n",
        "train_dogs_dir = os.path.join(train_dir, 'dogs')\n",
        "os.mkdir(train_dogs_dir)\n",
        "\n",
        "validation_cats_dir = os.path.join(validation_dir, 'cats')\n",
        "os.mkdir(validation_cats_dir)\n",
        "\n",
        "validation_dogs_dir = os.path.join(validation_dir, 'dogs')\n",
        "os.mkdir(validation_dogs_dir)\n",
        "\n",
        "test_cats_dir = os.path.join(test_dir, 'cats')\n",
        "os.mkdir(test_cats_dir)\n",
        "\n",
        "test_dogs_dir = os.path.join(test_dir, 'dogs')\n",
        "os.mkdir(test_dogs_dir)"
      ],
      "execution_count": 5,
      "outputs": []
    },
    {
      "cell_type": "code",
      "metadata": {
        "id": "ULRgL9s9rV8T"
      },
      "source": [
        "import shutil\n",
        "fnames = ['cat.{}.jpg'.format(i) for i in range(1000)]\n",
        "for fname in fnames:\n",
        "    src = os.path.join(original_dataset_dir, fname)\n",
        "    dst = os.path.join(train_cats_dir, fname)\n",
        "    #print(src,dst)\n",
        "    shutil.copyfile(src, dst)\n",
        "    \n",
        "fnames = ['cat.{}.jpg'.format(i) for i in range(1000, 1500)]\n",
        "for fname in fnames:\n",
        "    src = os.path.join(original_dataset_dir, fname)\n",
        "    dst = os.path.join(validation_cats_dir, fname)\n",
        "    shutil.copyfile(src, dst)\n",
        "\n",
        "fnames = ['cat.{}.jpg'.format(i) for i in range(1500, 2000)]\n",
        "for fname in fnames:\n",
        "    src = os.path.join(original_dataset_dir, fname)\n",
        "    dst = os.path.join(test_cats_dir, fname)\n",
        "    shutil.copyfile(src, dst)\n",
        "    \n",
        "fnames = ['dog.{}.jpg'.format(i) for i in range(1000)]\n",
        "for fname in fnames:\n",
        "    src = os.path.join(original_dataset_dir, fname)\n",
        "    dst = os.path.join(train_dogs_dir, fname)\n",
        "    shutil.copyfile(src, dst)\n",
        "\n",
        "fnames = ['dog.{}.jpg'.format(i) for i in range(1000, 1500)]\n",
        "for fname in fnames:\n",
        "    src = os.path.join(original_dataset_dir, fname)\n",
        "    dst = os.path.join(validation_dogs_dir, fname)\n",
        "    shutil.copyfile(src, dst)\n",
        "\n",
        "fnames = ['dog.{}.jpg'.format(i) for i in range(1500, 2000)]\n",
        "for fname in fnames:\n",
        "    src = os.path.join(original_dataset_dir, fname)\n",
        "    dst = os.path.join(test_dogs_dir, fname)\n",
        "    shutil.copyfile(src, dst)"
      ],
      "execution_count": 6,
      "outputs": []
    },
    {
      "cell_type": "code",
      "metadata": {
        "id": "ul3XAbIyr7vC",
        "colab": {
          "base_uri": "https://localhost:8080/"
        },
        "outputId": "e1f04dc7-46f1-4bcd-f435-d90c88e73f1b"
      },
      "source": [
        "print('total training cat images:', len(os.listdir(train_cats_dir)))\n",
        "print('total training dog images:', len(os.listdir(train_dogs_dir)))\n",
        "print('total validation cat images:', len(os.listdir(validation_cats_dir)))\n",
        "\n",
        "print('total validation dog images:', len(os.listdir(validation_dogs_dir)))\n",
        "print('total test cat images:', len(os.listdir(test_cats_dir)))\n",
        "print('total test dog images:', len(os.listdir(test_dogs_dir)))"
      ],
      "execution_count": 7,
      "outputs": [
        {
          "output_type": "stream",
          "text": [
            "total training cat images: 1000\n",
            "total training dog images: 1000\n",
            "total validation cat images: 500\n",
            "total validation dog images: 500\n",
            "total test cat images: 500\n",
            "total test dog images: 500\n"
          ],
          "name": "stdout"
        }
      ]
    },
    {
      "cell_type": "code",
      "metadata": {
        "id": "o9yTA21_r-ma",
        "colab": {
          "base_uri": "https://localhost:8080/"
        },
        "outputId": "3f71ebae-70fa-4e8b-e881-fd4f73f6f24b"
      },
      "source": [
        "from keras import layers\n",
        "from keras import models\n",
        "\n",
        "model = models.Sequential()\n",
        "model.add(layers.Conv2D(32, (3, 3), activation='relu', input_shape=(150, 150, 3)))\n",
        "model.add(layers.MaxPooling2D((2, 2)))\n",
        "model.add(layers.Conv2D(64, (3, 3), activation='relu'))\n",
        "model.add(layers.MaxPooling2D((2, 2)))\n",
        "model.add(layers.Conv2D(128, (3, 3), activation='relu'))\n",
        "model.add(layers.MaxPooling2D((2, 2)))\n",
        "model.add(layers.Conv2D(128, (3, 3), activation='relu'))\n",
        "model.add(layers.MaxPooling2D((2, 2)))\n",
        "model.add(layers.Flatten())\n",
        "model.add(layers.Dense(512, activation='relu'))\n",
        "model.add(layers.Dense(1, activation='sigmoid'))\n",
        "model.summary()"
      ],
      "execution_count": 8,
      "outputs": [
        {
          "output_type": "stream",
          "text": [
            "Model: \"sequential\"\n",
            "_________________________________________________________________\n",
            "Layer (type)                 Output Shape              Param #   \n",
            "=================================================================\n",
            "conv2d (Conv2D)              (None, 148, 148, 32)      896       \n",
            "_________________________________________________________________\n",
            "max_pooling2d (MaxPooling2D) (None, 74, 74, 32)        0         \n",
            "_________________________________________________________________\n",
            "conv2d_1 (Conv2D)            (None, 72, 72, 64)        18496     \n",
            "_________________________________________________________________\n",
            "max_pooling2d_1 (MaxPooling2 (None, 36, 36, 64)        0         \n",
            "_________________________________________________________________\n",
            "conv2d_2 (Conv2D)            (None, 34, 34, 128)       73856     \n",
            "_________________________________________________________________\n",
            "max_pooling2d_2 (MaxPooling2 (None, 17, 17, 128)       0         \n",
            "_________________________________________________________________\n",
            "conv2d_3 (Conv2D)            (None, 15, 15, 128)       147584    \n",
            "_________________________________________________________________\n",
            "max_pooling2d_3 (MaxPooling2 (None, 7, 7, 128)         0         \n",
            "_________________________________________________________________\n",
            "flatten (Flatten)            (None, 6272)              0         \n",
            "_________________________________________________________________\n",
            "dense (Dense)                (None, 512)               3211776   \n",
            "_________________________________________________________________\n",
            "dense_1 (Dense)              (None, 1)                 513       \n",
            "=================================================================\n",
            "Total params: 3,453,121\n",
            "Trainable params: 3,453,121\n",
            "Non-trainable params: 0\n",
            "_________________________________________________________________\n"
          ],
          "name": "stdout"
        }
      ]
    },
    {
      "cell_type": "code",
      "metadata": {
        "id": "2mG8wekxsBVS"
      },
      "source": [
        "from keras import optimizers\n",
        "model.compile(loss='binary_crossentropy', \n",
        "              optimizer=optimizers.RMSprop(lr=1e-4),\n",
        "              metrics=['accuracy'])"
      ],
      "execution_count": 9,
      "outputs": []
    },
    {
      "cell_type": "markdown",
      "metadata": {
        "id": "7zS4Klm8qWp6"
      },
      "source": [
        "## Using ImageDataGenerator to read images from directories\n",
        "As you know by now, data should be formatted into appropriately preprocessed floatingpoint tensors before being fed into the network. Currently, the data sits on a drive as JPEG files, so the steps for getting it into the network are roughly as follows:\n",
        "\n",
        "* Read the picture files.\n",
        "* Decode the JPEG content to RGB grids of pixels.\n",
        "* Convert these into floating-point tensors.\n",
        "* Rescale the pixel values (between 0 and 255) to the [0, 1] interval (as you know, neural networks prefer to deal with small input values).\n",
        "\n",
        "It may seem a bit daunting, but fortunately Keras has utilities to take care of these steps automatically. Keras has a module with image-processing helper tools, located at keras.preprocessing.image. In particular, it contains the class ImageDataGenerator,which lets you quickly set up Python generators that can automatically turn image files on disk into batches of preprocessed tensors."
      ]
    },
    {
      "cell_type": "code",
      "metadata": {
        "id": "XJ7XU7t9sEh6",
        "colab": {
          "base_uri": "https://localhost:8080/"
        },
        "outputId": "ee6e9a72-a97b-4bc1-8cad-a95e7283f405"
      },
      "source": [
        "from keras.preprocessing.image import ImageDataGenerator\n",
        "\n",
        "train_datagen = ImageDataGenerator(rescale=1./255)\n",
        "test_datagen = ImageDataGenerator(rescale=1./255)\n",
        "\n",
        "train_generator = train_datagen.flow_from_directory(train_dir,\n",
        "                                                    target_size=(150, 150), \n",
        "                                                    batch_size=20,\n",
        "                                                    class_mode='binary')\n",
        "\n",
        "validation_generator = test_datagen.flow_from_directory(validation_dir,\n",
        "                                                        target_size=(150, 150),\n",
        "                                                        batch_size=20,\n",
        "                                                        class_mode='binary')"
      ],
      "execution_count": 10,
      "outputs": [
        {
          "output_type": "stream",
          "text": [
            "Found 2000 images belonging to 2 classes.\n",
            "Found 1000 images belonging to 2 classes.\n"
          ],
          "name": "stdout"
        }
      ]
    },
    {
      "cell_type": "markdown",
      "metadata": {
        "id": "SEgLywySqm4u"
      },
      "source": [
        "Let’s fit the model to the data using the generator. You do so using the fit_generator method, the equivalent of fit for data generators like this one. It expects as its first argument a Python generator that will yield batches of inputs and targets indefinitely,like this one does. Because the data is being generated endlessly, the Keras model needs to know how many samples to draw from the generator before declaring anepoch over. This is the role of the `steps_per_epoch` argument: after having drawn `steps_per_epoch` batches from the generator—that is, after having run for `steps_per_epoch` gradient descent steps—the fitting process will go to the next epoch. In this case, batches are 20 samples, so it will take 100 batches until you see your target of 2,000 samples.\n",
        "\n",
        "When using fit_generator, you can pass a validation_data argument, much as with the fit method. It’s important to note that this argument is allowed to be a data generator, but it could also be a tuple of Numpy arrays. If you pass a generator as validation_data, then this generator is expected to yield batches of validation data endlessly; thus you should also specify the validation_steps argument, which tells the process how many batches to draw from the validation generator for evaluation."
      ]
    },
    {
      "cell_type": "code",
      "metadata": {
        "id": "yMyfPphJsJG6",
        "colab": {
          "base_uri": "https://localhost:8080/"
        },
        "outputId": "bc8b06b7-93ff-48a0-d884-a49205e3f453"
      },
      "source": [
        "history = model.fit_generator(train_generator,\n",
        "                              steps_per_epoch=100,\n",
        "                              epochs=30,\n",
        "                              validation_data=validation_generator,\n",
        "                              validation_steps=10)"
      ],
      "execution_count": 11,
      "outputs": [
        {
          "output_type": "stream",
          "text": [
            "/usr/local/lib/python3.7/dist-packages/tensorflow/python/keras/engine/training.py:1844: UserWarning: `Model.fit_generator` is deprecated and will be removed in a future version. Please use `Model.fit`, which supports generators.\n",
            "  warnings.warn('`Model.fit_generator` is deprecated and '\n"
          ],
          "name": "stderr"
        },
        {
          "output_type": "stream",
          "text": [
            "Epoch 1/30\n",
            "100/100 [==============================] - 40s 70ms/step - loss: 0.6998 - accuracy: 0.5046 - val_loss: 0.6722 - val_accuracy: 0.5950\n",
            "Epoch 2/30\n",
            "100/100 [==============================] - 7s 68ms/step - loss: 0.6741 - accuracy: 0.5797 - val_loss: 0.6820 - val_accuracy: 0.5650\n",
            "Epoch 3/30\n",
            "100/100 [==============================] - 7s 68ms/step - loss: 0.6459 - accuracy: 0.6331 - val_loss: 0.6266 - val_accuracy: 0.6900\n",
            "Epoch 4/30\n",
            "100/100 [==============================] - 7s 68ms/step - loss: 0.5950 - accuracy: 0.6760 - val_loss: 0.6467 - val_accuracy: 0.5900\n",
            "Epoch 5/30\n",
            "100/100 [==============================] - 7s 68ms/step - loss: 0.5543 - accuracy: 0.7107 - val_loss: 0.5499 - val_accuracy: 0.6950\n",
            "Epoch 6/30\n",
            "100/100 [==============================] - 7s 68ms/step - loss: 0.5026 - accuracy: 0.7561 - val_loss: 0.5826 - val_accuracy: 0.6350\n",
            "Epoch 7/30\n",
            "100/100 [==============================] - 7s 70ms/step - loss: 0.4811 - accuracy: 0.7699 - val_loss: 0.6146 - val_accuracy: 0.6650\n",
            "Epoch 8/30\n",
            "100/100 [==============================] - 7s 69ms/step - loss: 0.4394 - accuracy: 0.7975 - val_loss: 0.5647 - val_accuracy: 0.7050\n",
            "Epoch 9/30\n",
            "100/100 [==============================] - 7s 68ms/step - loss: 0.4293 - accuracy: 0.8070 - val_loss: 0.5253 - val_accuracy: 0.7150\n",
            "Epoch 10/30\n",
            "100/100 [==============================] - 7s 68ms/step - loss: 0.4091 - accuracy: 0.8120 - val_loss: 0.5825 - val_accuracy: 0.7100\n",
            "Epoch 11/30\n",
            "100/100 [==============================] - 7s 69ms/step - loss: 0.3672 - accuracy: 0.8394 - val_loss: 0.5812 - val_accuracy: 0.6800\n",
            "Epoch 12/30\n",
            "100/100 [==============================] - 7s 68ms/step - loss: 0.3541 - accuracy: 0.8471 - val_loss: 0.6061 - val_accuracy: 0.6950\n",
            "Epoch 13/30\n",
            "100/100 [==============================] - 7s 69ms/step - loss: 0.3213 - accuracy: 0.8663 - val_loss: 0.5573 - val_accuracy: 0.7150\n",
            "Epoch 14/30\n",
            "100/100 [==============================] - 7s 68ms/step - loss: 0.3003 - accuracy: 0.8796 - val_loss: 0.5047 - val_accuracy: 0.7750\n",
            "Epoch 15/30\n",
            "100/100 [==============================] - 7s 68ms/step - loss: 0.2691 - accuracy: 0.8957 - val_loss: 0.6118 - val_accuracy: 0.7000\n",
            "Epoch 16/30\n",
            "100/100 [==============================] - 7s 69ms/step - loss: 0.2462 - accuracy: 0.9132 - val_loss: 0.5126 - val_accuracy: 0.7750\n",
            "Epoch 17/30\n",
            "100/100 [==============================] - 7s 69ms/step - loss: 0.2298 - accuracy: 0.9205 - val_loss: 0.8626 - val_accuracy: 0.6700\n",
            "Epoch 18/30\n",
            "100/100 [==============================] - 7s 69ms/step - loss: 0.2089 - accuracy: 0.9149 - val_loss: 0.6490 - val_accuracy: 0.7300\n",
            "Epoch 19/30\n",
            "100/100 [==============================] - 7s 69ms/step - loss: 0.1857 - accuracy: 0.9222 - val_loss: 0.7326 - val_accuracy: 0.6700\n",
            "Epoch 20/30\n",
            "100/100 [==============================] - 7s 69ms/step - loss: 0.1535 - accuracy: 0.9481 - val_loss: 0.7460 - val_accuracy: 0.6950\n",
            "Epoch 21/30\n",
            "100/100 [==============================] - 7s 68ms/step - loss: 0.1511 - accuracy: 0.9481 - val_loss: 0.8754 - val_accuracy: 0.6950\n",
            "Epoch 22/30\n",
            "100/100 [==============================] - 7s 68ms/step - loss: 0.1302 - accuracy: 0.9544 - val_loss: 0.7379 - val_accuracy: 0.7600\n",
            "Epoch 23/30\n",
            "100/100 [==============================] - 7s 68ms/step - loss: 0.1166 - accuracy: 0.9627 - val_loss: 1.0646 - val_accuracy: 0.6700\n",
            "Epoch 24/30\n",
            "100/100 [==============================] - 7s 68ms/step - loss: 0.0956 - accuracy: 0.9698 - val_loss: 0.7116 - val_accuracy: 0.7500\n",
            "Epoch 25/30\n",
            "100/100 [==============================] - 7s 67ms/step - loss: 0.0859 - accuracy: 0.9696 - val_loss: 0.9880 - val_accuracy: 0.7250\n",
            "Epoch 26/30\n",
            "100/100 [==============================] - 7s 69ms/step - loss: 0.0734 - accuracy: 0.9786 - val_loss: 1.0138 - val_accuracy: 0.7150\n",
            "Epoch 27/30\n",
            "100/100 [==============================] - 7s 67ms/step - loss: 0.0649 - accuracy: 0.9804 - val_loss: 0.8433 - val_accuracy: 0.7350\n",
            "Epoch 28/30\n",
            "100/100 [==============================] - 7s 67ms/step - loss: 0.0463 - accuracy: 0.9904 - val_loss: 0.7805 - val_accuracy: 0.7600\n",
            "Epoch 29/30\n",
            "100/100 [==============================] - 7s 69ms/step - loss: 0.0502 - accuracy: 0.9883 - val_loss: 1.2597 - val_accuracy: 0.7250\n",
            "Epoch 30/30\n",
            "100/100 [==============================] - 7s 68ms/step - loss: 0.0625 - accuracy: 0.9757 - val_loss: 0.9985 - val_accuracy: 0.7200\n"
          ],
          "name": "stdout"
        }
      ]
    },
    {
      "cell_type": "code",
      "metadata": {
        "id": "MZaZ2HWZsNUi",
        "colab": {
          "base_uri": "https://localhost:8080/",
          "height": 545
        },
        "outputId": "cb350ded-9ba1-4ca4-a6f2-76a63b08c611"
      },
      "source": [
        "model.save('cats_and_dogs_small_1.h5')\n",
        "\n",
        "import matplotlib.pyplot as plt\n",
        "\n",
        "acc = history.history['accuracy']\n",
        "val_acc = history.history['val_accuracy']\n",
        "loss = history.history['loss']\n",
        "val_loss = history.history['val_loss']\n",
        "\n",
        "epochs = range(1, len(acc) + 1)\n",
        "\n",
        "plt.plot(epochs, acc, 'bo', label='Training acc')\n",
        "plt.plot(epochs, val_acc, 'b', label='Validation acc')\n",
        "plt.title('Training and validation accuracy')\n",
        "plt.legend()\n",
        "\n",
        "plt.figure()\n",
        "\n",
        "plt.plot(epochs, loss, 'bo', label='Training loss')\n",
        "plt.plot(epochs, val_loss, 'b', label='Validation loss')\n",
        "plt.title('Training and validation loss')\n",
        "plt.legend()\n",
        "\n",
        "plt.show()"
      ],
      "execution_count": 12,
      "outputs": [
        {
          "output_type": "display_data",
          "data": {
            "image/png": "[encoded data removed]",
            "text/plain": [
              "<Figure size 432x288 with 1 Axes>"
            ]
          },
          "metadata": {
            "tags": [],
            "needs_background": "light"
          }
        },
        {
          "output_type": "display_data",
          "data": {
            "image/png": "[encoded data removed]",
            "text/plain": [
              "<Figure size 432x288 with 1 Axes>"
            ]
          },
          "metadata": {
            "tags": [],
            "needs_background": "light"
          }
        }
      ]
    },
    {
      "cell_type": "markdown",
      "metadata": {
        "id": "XKZmXmBcq_8-"
      },
      "source": [
        "## Convolutional Networks with Dropout\n",
        "\n",
        "![alt text](https://camo.githubusercontent.com/ee6fa1073247cd2c3d241300caf110d7a7541bc5/68747470733a2f2f63646e2d696d616765732d312e6d656469756d2e636f6d2f6d61782f3830302f312a4972644a355067684439596f4f7956415137334d4a772e676966)\n",
        "\n",
        "Ref: https://github.com/mneha4/Training-Neural-Nets---Guidelines"
      ]
    },
    {
      "cell_type": "code",
      "metadata": {
        "id": "wu3cqeYQrDeN"
      },
      "source": [
        "model = models.Sequential()\n",
        "model.add(layers.Conv2D(32, (3, 3), activation='relu',\n",
        "input_shape=(150, 150, 3)))\n",
        "model.add(layers.MaxPooling2D((2, 2)))\n",
        "model.add(layers.Conv2D(64, (3, 3), activation='relu'))\n",
        "model.add(layers.MaxPooling2D((2, 2)))\n",
        "model.add(layers.Conv2D(128, (3, 3), activation='relu'))\n",
        "model.add(layers.MaxPooling2D((2, 2)))\n",
        "model.add(layers.Conv2D(128, (3, 3), activation='relu'))\n",
        "model.add(layers.MaxPooling2D((2, 2)))\n",
        "model.add(layers.Flatten())\n",
        "model.add(layers.Dropout(0.5))\n",
        "model.add(layers.Dense(512, activation='relu'))\n",
        "model.add(layers.Dense(1, activation='sigmoid'))\n",
        "\n",
        "model.compile(loss='binary_crossentropy',\n",
        "              optimizer=optimizers.RMSprop(lr=1e-4),\n",
        "              metrics=['accuracy'])"
      ],
      "execution_count": 21,
      "outputs": []
    },
    {
      "cell_type": "code",
      "metadata": {
        "id": "QSeLpvY0rH7F",
        "colab": {
          "base_uri": "https://localhost:8080/"
        },
        "outputId": "18937a38-fc1c-4111-da17-b49c95bd067b"
      },
      "source": [
        "\n",
        "train_datagen = ImageDataGenerator(rescale=1./255,\n",
        "                                   rotation_range=40,\n",
        "                                   width_shift_range=0.2,\n",
        "                                   height_shift_range=0.2,\n",
        "                                   shear_range=0.2,\n",
        "                                   zoom_range=0.2,\n",
        "                                   horizontal_flip=True,)\n",
        "\n",
        "test_datagen = ImageDataGenerator(rescale=1./255)\n",
        "\n",
        "train_generator = train_datagen.flow_from_directory(train_dir,\n",
        "                                                    target_size=(150, 150),\n",
        "                                                    batch_size=20,\n",
        "                                                    class_mode='binary')\n",
        "\n",
        "validation_generator = test_datagen.flow_from_directory(validation_dir,\n",
        "                                                        target_size=(150, 150),\n",
        "                                                        batch_size=20,\n",
        "                                                        class_mode='binary')\n",
        "\n",
        "history = model.fit_generator(train_generator,\n",
        "                              steps_per_epoch=100,\n",
        "                              epochs=20,\n",
        "                              validation_data=validation_generator,\n",
        "                              validation_steps=10)\n",
        " "
      ],
      "execution_count": 22,
      "outputs": [
        {
          "output_type": "stream",
          "text": [
            "Found 2000 images belonging to 2 classes.\n",
            "Found 1000 images belonging to 2 classes.\n"
          ],
          "name": "stdout"
        },
        {
          "output_type": "stream",
          "text": [
            "/usr/local/lib/python3.7/dist-packages/tensorflow/python/keras/engine/training.py:1844: UserWarning: `Model.fit_generator` is deprecated and will be removed in a future version. Please use `Model.fit`, which supports generators.\n",
            "  warnings.warn('`Model.fit_generator` is deprecated and '\n"
          ],
          "name": "stderr"
        },
        {
          "output_type": "stream",
          "text": [
            "Epoch 1/20\n",
            "100/100 [==============================] - 16s 154ms/step - loss: 0.6954 - accuracy: 0.5125 - val_loss: 0.6868 - val_accuracy: 0.5500\n",
            "Epoch 2/20\n",
            "100/100 [==============================] - 15s 151ms/step - loss: 0.6796 - accuracy: 0.5282 - val_loss: 0.7240 - val_accuracy: 0.5050\n",
            "Epoch 3/20\n",
            "100/100 [==============================] - 15s 152ms/step - loss: 0.6645 - accuracy: 0.5625 - val_loss: 0.6545 - val_accuracy: 0.5350\n",
            "Epoch 4/20\n",
            "100/100 [==============================] - 15s 153ms/step - loss: 0.6462 - accuracy: 0.6268 - val_loss: 0.6255 - val_accuracy: 0.6450\n",
            "Epoch 5/20\n",
            "100/100 [==============================] - 15s 152ms/step - loss: 0.6157 - accuracy: 0.6750 - val_loss: 0.6016 - val_accuracy: 0.6650\n",
            "Epoch 6/20\n",
            "100/100 [==============================] - 15s 152ms/step - loss: 0.6272 - accuracy: 0.6309 - val_loss: 0.5847 - val_accuracy: 0.6950\n",
            "Epoch 7/20\n",
            "100/100 [==============================] - 15s 150ms/step - loss: 0.6182 - accuracy: 0.6677 - val_loss: 0.6186 - val_accuracy: 0.6700\n",
            "Epoch 8/20\n",
            "100/100 [==============================] - 15s 151ms/step - loss: 0.5941 - accuracy: 0.6793 - val_loss: 0.6671 - val_accuracy: 0.5950\n",
            "Epoch 9/20\n",
            "100/100 [==============================] - 15s 150ms/step - loss: 0.5982 - accuracy: 0.6738 - val_loss: 0.5809 - val_accuracy: 0.6900\n",
            "Epoch 10/20\n",
            "100/100 [==============================] - 15s 151ms/step - loss: 0.6001 - accuracy: 0.6805 - val_loss: 0.5734 - val_accuracy: 0.6800\n",
            "Epoch 11/20\n",
            "100/100 [==============================] - 15s 153ms/step - loss: 0.5960 - accuracy: 0.6826 - val_loss: 0.6019 - val_accuracy: 0.7000\n",
            "Epoch 12/20\n",
            "100/100 [==============================] - 15s 153ms/step - loss: 0.5816 - accuracy: 0.6886 - val_loss: 0.5686 - val_accuracy: 0.6950\n",
            "Epoch 13/20\n",
            "100/100 [==============================] - 15s 150ms/step - loss: 0.5699 - accuracy: 0.7108 - val_loss: 0.6053 - val_accuracy: 0.6350\n",
            "Epoch 14/20\n",
            "100/100 [==============================] - 15s 151ms/step - loss: 0.5657 - accuracy: 0.7011 - val_loss: 0.5309 - val_accuracy: 0.7100\n",
            "Epoch 15/20\n",
            "100/100 [==============================] - 15s 151ms/step - loss: 0.5702 - accuracy: 0.7001 - val_loss: 0.5856 - val_accuracy: 0.6600\n",
            "Epoch 16/20\n",
            "100/100 [==============================] - 15s 151ms/step - loss: 0.5378 - accuracy: 0.7282 - val_loss: 0.5189 - val_accuracy: 0.7200\n",
            "Epoch 17/20\n",
            "100/100 [==============================] - 15s 150ms/step - loss: 0.5753 - accuracy: 0.6909 - val_loss: 0.5655 - val_accuracy: 0.7250\n",
            "Epoch 18/20\n",
            "100/100 [==============================] - 15s 150ms/step - loss: 0.5636 - accuracy: 0.7005 - val_loss: 0.5716 - val_accuracy: 0.7000\n",
            "Epoch 19/20\n",
            "100/100 [==============================] - 15s 151ms/step - loss: 0.5402 - accuracy: 0.7137 - val_loss: 0.5558 - val_accuracy: 0.7000\n",
            "Epoch 20/20\n",
            "100/100 [==============================] - 15s 151ms/step - loss: 0.5504 - accuracy: 0.7168 - val_loss: 0.5231 - val_accuracy: 0.7450\n"
          ],
          "name": "stdout"
        }
      ]
    },
    {
      "cell_type": "markdown",
      "metadata": {
        "id": "BRdU5yrkUF_b"
      },
      "source": [
        "# Task 2:\n",
        "\n",
        "We have used Dropout to enhance the performance of the CNN model. Can you please use whatever you like to further enhance the performance from `val_acc: 0.7506`? "
      ]
    },
    {
      "cell_type": "code",
      "metadata": {
        "id": "xTzOTcmBpbVP"
      },
      "source": [
        "activ='relu'\r\n",
        "opti='adamax'\r\n",
        "\r\n",
        "model = models.Sequential()\r\n",
        "model.add(layers.Conv2D(32, (3, 3), activation=activ,\r\n",
        "input_shape=(150, 150, 3)))\r\n",
        "model.add(layers.MaxPooling2D((2, 2)))\r\n",
        "model.add(layers.Conv2D(64, (3, 3), activation=activ))\r\n",
        "model.add(layers.MaxPooling2D((2, 2)))\r\n",
        "model.add(layers.Conv2D(128, (3, 3), activation=activ))\r\n",
        "model.add(layers.MaxPooling2D((2, 2)))\r\n",
        "model.add(layers.Conv2D(128, (3, 3), activation=activ))\r\n",
        "model.add(layers.MaxPooling2D((2, 2)))\r\n",
        "model.add(layers.Flatten())\r\n",
        "model.add(layers.Dropout(0.5))\r\n",
        "model.add(layers.Dense(512, activation=activ))\r\n",
        "model.add(layers.Dense(1, activation='sigmoid'))\r\n",
        "\r\n",
        "model.compile(loss='binary_crossentropy',\r\n",
        "              optimizer=opti,#optimizers.RMSprop(lr=1e-4),\r\n",
        "              metrics=['accuracy'])"
      ],
      "execution_count": 27,
      "outputs": []
    },
    {
      "cell_type": "code",
      "metadata": {
        "colab": {
          "base_uri": "https://localhost:8080/"
        },
        "id": "MQn1M7sV2QMj",
        "outputId": "8eb170ac-8ef3-429d-b1f8-c0d6c843770f"
      },
      "source": [
        "history = model.fit_generator(train_generator,\r\n",
        "                              steps_per_epoch=100,\r\n",
        "                              epochs=40,\r\n",
        "                              validation_data=validation_generator,\r\n",
        "                              validation_steps=10)"
      ],
      "execution_count": 28,
      "outputs": [
        {
          "output_type": "stream",
          "text": [
            "/usr/local/lib/python3.7/dist-packages/tensorflow/python/keras/engine/training.py:1844: UserWarning: `Model.fit_generator` is deprecated and will be removed in a future version. Please use `Model.fit`, which supports generators.\n",
            "  warnings.warn('`Model.fit_generator` is deprecated and '\n"
          ],
          "name": "stderr"
        },
        {
          "output_type": "stream",
          "text": [
            "Epoch 1/40\n",
            "100/100 [==============================] - 16s 153ms/step - loss: 0.6963 - accuracy: 0.5186 - val_loss: 0.6874 - val_accuracy: 0.5300\n",
            "Epoch 2/40\n",
            "100/100 [==============================] - 15s 151ms/step - loss: 0.6863 - accuracy: 0.5709 - val_loss: 0.6335 - val_accuracy: 0.6500\n",
            "Epoch 3/40\n",
            "100/100 [==============================] - 15s 150ms/step - loss: 0.6649 - accuracy: 0.6145 - val_loss: 0.6396 - val_accuracy: 0.6300\n",
            "Epoch 4/40\n",
            "100/100 [==============================] - 15s 150ms/step - loss: 0.6516 - accuracy: 0.5960 - val_loss: 0.6052 - val_accuracy: 0.6100\n",
            "Epoch 5/40\n",
            "100/100 [==============================] - 15s 150ms/step - loss: 0.6251 - accuracy: 0.6532 - val_loss: 0.6037 - val_accuracy: 0.6600\n",
            "Epoch 6/40\n",
            "100/100 [==============================] - 15s 154ms/step - loss: 0.6227 - accuracy: 0.6550 - val_loss: 0.5930 - val_accuracy: 0.6700\n",
            "Epoch 7/40\n",
            "100/100 [==============================] - 15s 150ms/step - loss: 0.5940 - accuracy: 0.6827 - val_loss: 0.5609 - val_accuracy: 0.6900\n",
            "Epoch 8/40\n",
            "100/100 [==============================] - 15s 149ms/step - loss: 0.5944 - accuracy: 0.6840 - val_loss: 0.5267 - val_accuracy: 0.7200\n",
            "Epoch 9/40\n",
            "100/100 [==============================] - 15s 150ms/step - loss: 0.5758 - accuracy: 0.6864 - val_loss: 0.5553 - val_accuracy: 0.7250\n",
            "Epoch 10/40\n",
            "100/100 [==============================] - 15s 151ms/step - loss: 0.6009 - accuracy: 0.6749 - val_loss: 0.5791 - val_accuracy: 0.7100\n",
            "Epoch 11/40\n",
            "100/100 [==============================] - 15s 151ms/step - loss: 0.5716 - accuracy: 0.6986 - val_loss: 0.4919 - val_accuracy: 0.7550\n",
            "Epoch 12/40\n",
            "100/100 [==============================] - 15s 150ms/step - loss: 0.5457 - accuracy: 0.7040 - val_loss: 0.5071 - val_accuracy: 0.7350\n",
            "Epoch 13/40\n",
            "100/100 [==============================] - 15s 150ms/step - loss: 0.5586 - accuracy: 0.7133 - val_loss: 0.5276 - val_accuracy: 0.7400\n",
            "Epoch 14/40\n",
            "100/100 [==============================] - 15s 150ms/step - loss: 0.5514 - accuracy: 0.7071 - val_loss: 0.4414 - val_accuracy: 0.7950\n",
            "Epoch 15/40\n",
            "100/100 [==============================] - 15s 151ms/step - loss: 0.5369 - accuracy: 0.7292 - val_loss: 0.4796 - val_accuracy: 0.7850\n",
            "Epoch 16/40\n",
            "100/100 [==============================] - 15s 150ms/step - loss: 0.5348 - accuracy: 0.7223 - val_loss: 0.5812 - val_accuracy: 0.6950\n",
            "Epoch 17/40\n",
            "100/100 [==============================] - 15s 150ms/step - loss: 0.5258 - accuracy: 0.7320 - val_loss: 0.4773 - val_accuracy: 0.7600\n",
            "Epoch 18/40\n",
            "100/100 [==============================] - 15s 150ms/step - loss: 0.5358 - accuracy: 0.7393 - val_loss: 0.4887 - val_accuracy: 0.7550\n",
            "Epoch 19/40\n",
            "100/100 [==============================] - 15s 150ms/step - loss: 0.5335 - accuracy: 0.7440 - val_loss: 0.4744 - val_accuracy: 0.7900\n",
            "Epoch 20/40\n",
            "100/100 [==============================] - 15s 150ms/step - loss: 0.4971 - accuracy: 0.7487 - val_loss: 0.4648 - val_accuracy: 0.7800\n",
            "Epoch 21/40\n",
            "100/100 [==============================] - 15s 151ms/step - loss: 0.5272 - accuracy: 0.7372 - val_loss: 0.4863 - val_accuracy: 0.7650\n",
            "Epoch 22/40\n",
            "100/100 [==============================] - 15s 151ms/step - loss: 0.4900 - accuracy: 0.7442 - val_loss: 0.5321 - val_accuracy: 0.7150\n",
            "Epoch 23/40\n",
            "100/100 [==============================] - 15s 150ms/step - loss: 0.4984 - accuracy: 0.7555 - val_loss: 0.5321 - val_accuracy: 0.7200\n",
            "Epoch 24/40\n",
            "100/100 [==============================] - 15s 150ms/step - loss: 0.4963 - accuracy: 0.7690 - val_loss: 0.4478 - val_accuracy: 0.8150\n",
            "Epoch 25/40\n",
            "100/100 [==============================] - 15s 149ms/step - loss: 0.5178 - accuracy: 0.7339 - val_loss: 0.4909 - val_accuracy: 0.7400\n",
            "Epoch 26/40\n",
            "100/100 [==============================] - 15s 150ms/step - loss: 0.5237 - accuracy: 0.7424 - val_loss: 0.4417 - val_accuracy: 0.7600\n",
            "Epoch 27/40\n",
            "100/100 [==============================] - 15s 152ms/step - loss: 0.4815 - accuracy: 0.7792 - val_loss: 0.4390 - val_accuracy: 0.7850\n",
            "Epoch 28/40\n",
            "100/100 [==============================] - 15s 150ms/step - loss: 0.4971 - accuracy: 0.7577 - val_loss: 0.4378 - val_accuracy: 0.8050\n",
            "Epoch 29/40\n",
            "100/100 [==============================] - 15s 150ms/step - loss: 0.4830 - accuracy: 0.7657 - val_loss: 0.3417 - val_accuracy: 0.8200\n",
            "Epoch 30/40\n",
            "100/100 [==============================] - 15s 152ms/step - loss: 0.4722 - accuracy: 0.7755 - val_loss: 0.5382 - val_accuracy: 0.7400\n",
            "Epoch 31/40\n",
            "100/100 [==============================] - 15s 150ms/step - loss: 0.4444 - accuracy: 0.7790 - val_loss: 0.4429 - val_accuracy: 0.7900\n",
            "Epoch 32/40\n",
            "100/100 [==============================] - 15s 150ms/step - loss: 0.5017 - accuracy: 0.7538 - val_loss: 0.4259 - val_accuracy: 0.8100\n",
            "Epoch 33/40\n",
            "100/100 [==============================] - 15s 150ms/step - loss: 0.4754 - accuracy: 0.7739 - val_loss: 0.4379 - val_accuracy: 0.7850\n",
            "Epoch 34/40\n",
            "100/100 [==============================] - 15s 149ms/step - loss: 0.4311 - accuracy: 0.7938 - val_loss: 0.4320 - val_accuracy: 0.8050\n",
            "Epoch 35/40\n",
            "100/100 [==============================] - 15s 150ms/step - loss: 0.4336 - accuracy: 0.8111 - val_loss: 0.4243 - val_accuracy: 0.7800\n",
            "Epoch 36/40\n",
            "100/100 [==============================] - 15s 148ms/step - loss: 0.4572 - accuracy: 0.7777 - val_loss: 0.4100 - val_accuracy: 0.7850\n",
            "Epoch 37/40\n",
            "100/100 [==============================] - 15s 150ms/step - loss: 0.4532 - accuracy: 0.7928 - val_loss: 0.4302 - val_accuracy: 0.8100\n",
            "Epoch 38/40\n",
            "100/100 [==============================] - 15s 150ms/step - loss: 0.4477 - accuracy: 0.7868 - val_loss: 0.4863 - val_accuracy: 0.7700\n",
            "Epoch 39/40\n",
            "100/100 [==============================] - 15s 149ms/step - loss: 0.4423 - accuracy: 0.7947 - val_loss: 0.4177 - val_accuracy: 0.8100\n",
            "Epoch 40/40\n",
            "100/100 [==============================] - 15s 150ms/step - loss: 0.4447 - accuracy: 0.7820 - val_loss: 0.4106 - val_accuracy: 0.7900\n"
          ],
          "name": "stdout"
        }
      ]
    }
  ]
}