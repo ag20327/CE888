{
  "nbformat": 4,
  "nbformat_minor": 0,
  "metadata": {
    "colab": {
      "name": "General/Specific Normal",
      "provenance": [],
      "collapsed_sections": [],
      "mount_file_id": "1gAx9BuKUK6GAufZUxlxatGRSoOY5vrp4",
      "authorship_tag": "ABX9TyOpiBCwLWQugV2vD6aWeFrj",
      "include_colab_link": true
    },
    "kernelspec": {
      "name": "python3",
      "display_name": "Python 3"
    },
    "language_info": {
      "name": "python"
    },
    "accelerator": "GPU"
  },
  "cells": [
    {
      "cell_type": "markdown",
      "metadata": {
        "id": "view-in-github",
        "colab_type": "text"
      },
      "source": [
        "<a href=\"https://colab.research.google.com/github/ag20327/CE888/blob/main/Assignment_2/General_Specific_Normal.ipynb\" target=\"_parent\"><img src=\"https://colab.research.google.com/assets/colab-badge.svg\" alt=\"Open In Colab\"/></a>"
      ]
    },
    {
      "cell_type": "markdown",
      "metadata": {
        "id": "RafPWVqLAjSY"
      },
      "source": [
        "# **General Model**"
      ]
    },
    {
      "cell_type": "markdown",
      "metadata": {
        "id": "M1PtoE84SmyW"
      },
      "source": [
        "Train First a Model with images from fire, then retrain that model with the required dataset"
      ]
    },
    {
      "cell_type": "markdown",
      "metadata": {
        "id": "gNBZhZPpE39l"
      },
      "source": [
        "FireNet dataset"
      ]
    },
    {
      "cell_type": "markdown",
      "metadata": {
        "id": "X_hjiQfiR38s"
      },
      "source": [
        "**Image preparation**"
      ]
    },
    {
      "cell_type": "code",
      "metadata": {
        "colab": {
          "base_uri": "https://localhost:8080/"
        },
        "id": "AtEIjhnk4llN",
        "outputId": "c3c69d77-ea1c-416b-a188-b2e353422ab0"
      },
      "source": [
        "# Unzip training data\n",
        "from zipfile import ZipFile\n",
        "file_name = \"/content/drive/MyDrive/Training _Dataset.zip\"\n",
        "with ZipFile(file_name, 'r') as zip:\n",
        "  zip.extractall()\n",
        "  print('done')"
      ],
      "execution_count": null,
      "outputs": [
        {
          "output_type": "stream",
          "text": [
            "done\n"
          ],
          "name": "stdout"
        }
      ]
    },
    {
      "cell_type": "code",
      "metadata": {
        "colab": {
          "base_uri": "https://localhost:8080/"
        },
        "id": "dFG0VLII49WP",
        "outputId": "7d02e532-3f6a-4a9a-a5c7-3524b20070c9"
      },
      "source": [
        "import os\n",
        "# Get all the paths\n",
        "data_dir_list = os.listdir('/content/Training Dataset')\n",
        "print(data_dir_list)\n",
        "path, dirs, files = next(os.walk(\"/content/Training Dataset\"))\n",
        "file_count = len(files)\n",
        "print(file_count)"
      ],
      "execution_count": null,
      "outputs": [
        {
          "output_type": "stream",
          "text": [
            "['Fire', 'NoFire']\n",
            "0\n"
          ],
          "name": "stdout"
        }
      ]
    },
    {
      "cell_type": "code",
      "metadata": {
        "id": "42o4a1vd5ZGd"
      },
      "source": [
        "# Make new base directory\n",
        "original_dataset_dir = '/content/Training Dataset'\n",
        "base_dir = '/content/data_divided'\n",
        "os.mkdir(base_dir)"
      ],
      "execution_count": null,
      "outputs": []
    },
    {
      "cell_type": "code",
      "metadata": {
        "id": "72YIqTHG5fup",
        "colab": {
          "base_uri": "https://localhost:8080/",
          "height": 35
        },
        "outputId": "4da609db-a8bb-4625-9547-42e89041f499"
      },
      "source": [
        "train_dir = os.path.join(base_dir, 'train')\n",
        "os.mkdir(train_dir)\n",
        "\n",
        "validation_dir = os.path.join(base_dir, 'validation')\n",
        "os.mkdir(validation_dir)\n",
        "\"\"\"\n",
        "test_dir = os.path.join(base_dir, 'test')\n",
        "os.mkdir(test_dir)\n",
        "\"\"\""
      ],
      "execution_count": null,
      "outputs": [
        {
          "output_type": "execute_result",
          "data": {
            "application/vnd.google.colaboratory.intrinsic+json": {
              "type": "string"
            },
            "text/plain": [
              "\"\\ntest_dir = os.path.join(base_dir, 'test')\\nos.mkdir(test_dir)\\n\""
            ]
          },
          "metadata": {
            "tags": []
          },
          "execution_count": 4
        }
      ]
    },
    {
      "cell_type": "markdown",
      "metadata": {
        "id": "FeXEXJDyHqVG"
      },
      "source": [
        "Remove imgaes\n",
        "\n",
        "fire1\n",
        "\n",
        "nofire.631.jpg"
      ]
    },
    {
      "cell_type": "code",
      "metadata": {
        "id": "dOwmbf9c5lP-"
      },
      "source": [
        "# Reorginize the images into folders of Train, Validation, Test\n",
        "import shutil\n",
        "# Fire\n",
        "#Remove 1\n",
        "for i in range(2,956):\n",
        "    src = os.path.join(original_dataset_dir + \"/Fire\", 'fire{}.jpg'.format(i))\n",
        "    dst = os.path.join(train_dir, 'fire.{}.jpg'.format(i))\n",
        "    #print(src,dst)\n",
        "    shutil.copyfile(src, dst)\n",
        "\n",
        "for i in range(956,1125):\n",
        "    src = os.path.join(original_dataset_dir + \"/Fire\", 'fire{}.jpg'.format(i))\n",
        "    dst = os.path.join(validation_dir, 'fire.{}.jpg'.format(i))\n",
        "    #print(src,dst)\n",
        "    shutil.copyfile(src, dst)\n",
        "\n",
        "\n",
        "\n",
        "# NoFire\n",
        "for i in range(1,631):\n",
        "    src = os.path.join(original_dataset_dir + \"/NoFire\", 'nofire{}.jpg'.format(i))\n",
        "    dst = os.path.join(train_dir, 'nofire.{}.jpg'.format(i))\n",
        "    #print(src,dst)\n",
        "    shutil.copyfile(src, dst)\n",
        "#Remove 631    \n",
        "for i in range(632,1106):\n",
        "    src = os.path.join(original_dataset_dir + \"/NoFire\", 'nofire{}.jpg'.format(i))\n",
        "    dst = os.path.join(train_dir, 'nofire.{}.jpg'.format(i))\n",
        "    #print(src,dst)\n",
        "    shutil.copyfile(src, dst)\n",
        "\n",
        "for i in range(1106,1238):\n",
        "    src = os.path.join(original_dataset_dir + \"/NoFire\", 'nofire{}.jpg'.format(i))\n",
        "    dst = os.path.join(validation_dir, 'nofire.{}.jpg'.format(i))\n",
        "    #print(src,dst)\n",
        "    shutil.copyfile(src, dst)\n",
        "\n",
        "src = os.path.join(original_dataset_dir + \"/NoFire\", 'nf1238.jpg')\n",
        "dst = os.path.join(validation_dir, 'nofire.{}.jpg'.format(1238))\n",
        "#print(src,dst)\n",
        "shutil.copyfile(src, dst)\n",
        "for i in range(1239, 1302):\n",
        "    src = os.path.join(original_dataset_dir + \"/NoFire\", 'nofire{}.jpg'.format(i))\n",
        "    dst = os.path.join(validation_dir, 'nofire.{}.jpg'.format(i))\n",
        "    #print(src,dst)\n",
        "    shutil.copyfile(src, dst)"
      ],
      "execution_count": null,
      "outputs": []
    },
    {
      "cell_type": "code",
      "metadata": {
        "colab": {
          "base_uri": "https://localhost:8080/"
        },
        "id": "ZY0gvoBP9ch4",
        "outputId": "ed72ee69-06e7-469b-e514-d3bb2e4b67ad"
      },
      "source": [
        "path, dirs, files = next(os.walk(\"/content/data_divided/train\"))\n",
        "file_count = len(files)\n",
        "print(file_count)"
      ],
      "execution_count": null,
      "outputs": [
        {
          "output_type": "stream",
          "text": [
            "2058\n"
          ],
          "name": "stdout"
        }
      ]
    },
    {
      "cell_type": "code",
      "metadata": {
        "colab": {
          "base_uri": "https://localhost:8080/"
        },
        "id": "xNmh8tcf9gPW",
        "outputId": "a871c8e8-115b-42ea-f66b-8061b91ad375"
      },
      "source": [
        "path, dirs, files = next(os.walk(\"/content/data_divided/validation\"))\n",
        "file_count = len(files)\n",
        "print(file_count)"
      ],
      "execution_count": null,
      "outputs": [
        {
          "output_type": "stream",
          "text": [
            "365\n"
          ],
          "name": "stdout"
        }
      ]
    },
    {
      "cell_type": "code",
      "metadata": {
        "id": "WF8ybSMa9zaB"
      },
      "source": [
        "import cv2\n",
        "import numpy as np\n",
        "from random import shuffle\n",
        "\n",
        "IMG_SIZE = 299\n",
        "LR = 1e-4"
      ],
      "execution_count": null,
      "outputs": []
    },
    {
      "cell_type": "code",
      "metadata": {
        "id": "UEjmha_f91x5"
      },
      "source": [
        "def label_img(img):\n",
        "    word_label = img.split('.')[0]\n",
        "    if word_label == 'fire': return 0\n",
        "    elif word_label == 'nofire': return 1\n"
      ],
      "execution_count": null,
      "outputs": []
    },
    {
      "cell_type": "code",
      "metadata": {
        "id": "8SJt3pAP-vt1"
      },
      "source": [
        "def createDataSplitSet(datapath):\n",
        "    X=[]\n",
        "    y=[]\n",
        "    i=1\n",
        "\n",
        "    for img in os.listdir(datapath):\n",
        "      if img != (\".ipynb_checkpoints\"):\n",
        "        label = label_img(img)\n",
        "        #print(i)\n",
        "        #print((img))\n",
        "        i+=1\n",
        "        path = os.path.join(datapath, img)\n",
        "        image = cv2.resize(cv2.imread(path), (299, 299))\n",
        "        image = cv2.normalize(image, None, alpha=0, beta=1, norm_type=cv2.NORM_MINMAX, dtype=cv2.CV_32F)\n",
        "\n",
        "        X.append(np.array(image))\n",
        "        y.append(label)\n",
        "\n",
        "    return np.array(X), np.array(y)"
      ],
      "execution_count": null,
      "outputs": []
    },
    {
      "cell_type": "code",
      "metadata": {
        "id": "XlMcyiGa-yAk"
      },
      "source": [
        "train_X, train_y = createDataSplitSet(train_dir)\n",
        "val_X, val_y = createDataSplitSet(validation_dir)\n"
      ],
      "execution_count": null,
      "outputs": []
    },
    {
      "cell_type": "markdown",
      "metadata": {
        "id": "VUcmjY58_MOI"
      },
      "source": [
        "Model preparation"
      ]
    },
    {
      "cell_type": "code",
      "metadata": {
        "id": "r9r5GTfCSLWz"
      },
      "source": [
        "import tensorflow as tf\n",
        "from tensorflow import keras\n",
        "from tensorflow.keras import layers\n",
        "import matplotlib.pyplot as plt\n",
        "\n",
        "image_size = (299, 299) #Expected input of Xception with 3 channels\n",
        "batch_size = 32\n"
      ],
      "execution_count": null,
      "outputs": []
    },
    {
      "cell_type": "code",
      "metadata": {
        "id": "AmkkJC7L_Lgn"
      },
      "source": [
        "## Xception\n",
        "from tensorflow.keras.applications import Xception\n",
        "from tensorflow.keras.layers import Dense, Input, Flatten,SeparableConv2D,BatchNormalization,Activation,GlobalAveragePooling2D \n",
        "from tensorflow.keras import Model\n",
        "\n",
        "img_input = Input(shape=(299, 299, 3))"
      ],
      "execution_count": null,
      "outputs": []
    },
    {
      "cell_type": "code",
      "metadata": {
        "colab": {
          "base_uri": "https://localhost:8080/"
        },
        "id": "D2ix3XU7SRNR",
        "outputId": "393b8ec7-9479-4c3d-bb9a-427ece02aa8a"
      },
      "source": [
        "model = Xception(\n",
        "    include_top=True,\n",
        "    weights=\"imagenet\",\n",
        "    input_tensor=img_input,\n",
        "    input_shape=None,\n",
        "    pooling=None,\n",
        "    classes=1000,\n",
        "    classifier_activation=\"softmax\")\n",
        "\n",
        "\n",
        "#model.summary()"
      ],
      "execution_count": null,
      "outputs": [
        {
          "output_type": "stream",
          "text": [
            "Downloading data from https://storage.googleapis.com/tensorflow/keras-applications/xception/xception_weights_tf_dim_ordering_tf_kernels.h5\n",
            "91889664/91884032 [==============================] - 1s 0us/step\n"
          ],
          "name": "stdout"
        }
      ]
    },
    {
      "cell_type": "code",
      "metadata": {
        "id": "CNCfUa-ySTGX"
      },
      "source": [
        "num_classes = 1\n",
        "last_layer = model.get_layer('block14_sepconv1_act').output\n",
        "\n",
        "x= SeparableConv2D(2048, (3, 3) ,name='block14_sepconv2',padding=\"same\",use_bias=False)(last_layer) #listo\n",
        "x= BatchNormalization(name='block14_sepconv2_bn')(x)#listo\n",
        "x = Activation (activation='relu', name='block14_sepconv2_act')(x)#listo\n",
        "x = GlobalAveragePooling2D (name='avg_pool')(x)#listo\n",
        "\n",
        "\n",
        "out = Dense(num_classes, activation='sigmoid', name='output')(x)  ## 2 classes\n",
        "model = Model(img_input, out)\n",
        "\n",
        "for layer in model.layers[:-5]:\n",
        "\tlayer.trainable = False\n",
        "\n",
        "#model.summary()"
      ],
      "execution_count": null,
      "outputs": []
    },
    {
      "cell_type": "code",
      "metadata": {
        "id": "fYCtMmTPSYpc"
      },
      "source": [
        "model.compile(loss='binary_crossentropy',\n",
        "              optimizer='adam',\n",
        "              metrics=['acc'])"
      ],
      "execution_count": null,
      "outputs": []
    },
    {
      "cell_type": "code",
      "metadata": {
        "id": "2vSC6uDF-4ky"
      },
      "source": [
        "from tensorflow.keras.callbacks import EarlyStopping, ModelCheckpoint\n",
        "my_callbacks = [\n",
        "    EarlyStopping(monitor=\"val_loss\", patience=10, restore_best_weights=True),\n",
        "    ModelCheckpoint(filepath='vgg16_model.h5', save_best_only=True),\n",
        "]"
      ],
      "execution_count": null,
      "outputs": []
    },
    {
      "cell_type": "code",
      "metadata": {
        "id": "TFxiLmI0-6ta",
        "colab": {
          "base_uri": "https://localhost:8080/"
        },
        "outputId": "725a3f58-87b8-4fc8-bfff-f04c05a4d83a"
      },
      "source": [
        "history = model.fit(train_X, train_y,\n",
        "                               batch_size=32,\n",
        "                               epochs=20, \n",
        "                               validation_data=(val_X, val_y),\n",
        "                               callbacks=my_callbacks\n",
        "                    )"
      ],
      "execution_count": null,
      "outputs": [
        {
          "output_type": "stream",
          "text": [
            "Epoch 1/20\n",
            "65/65 [==============================] - 23s 327ms/step - loss: 0.0012 - acc: 1.0000 - val_loss: 0.0809 - val_acc: 0.9699\n",
            "Epoch 2/20\n",
            "65/65 [==============================] - 21s 322ms/step - loss: 0.0044 - acc: 0.9981 - val_loss: 0.0823 - val_acc: 0.9671\n",
            "Epoch 3/20\n",
            "65/65 [==============================] - 21s 323ms/step - loss: 8.5976e-04 - acc: 1.0000 - val_loss: 0.0932 - val_acc: 0.9671\n",
            "Epoch 4/20\n",
            "65/65 [==============================] - 21s 325ms/step - loss: 7.6135e-04 - acc: 1.0000 - val_loss: 0.0772 - val_acc: 0.9671\n",
            "Epoch 5/20\n",
            "65/65 [==============================] - 21s 327ms/step - loss: 5.8917e-04 - acc: 1.0000 - val_loss: 0.0759 - val_acc: 0.9699\n",
            "Epoch 6/20\n",
            "65/65 [==============================] - 21s 329ms/step - loss: 0.0020 - acc: 0.9995 - val_loss: 0.0769 - val_acc: 0.9699\n",
            "Epoch 7/20\n",
            "65/65 [==============================] - 21s 330ms/step - loss: 0.0015 - acc: 0.9990 - val_loss: 0.0979 - val_acc: 0.9671\n",
            "Epoch 8/20\n",
            "65/65 [==============================] - 22s 334ms/step - loss: 5.8682e-04 - acc: 1.0000 - val_loss: 0.0982 - val_acc: 0.9671\n",
            "Epoch 9/20\n",
            "65/65 [==============================] - 23s 350ms/step - loss: 4.5399e-04 - acc: 1.0000 - val_loss: 0.0862 - val_acc: 0.9644\n",
            "Epoch 10/20\n",
            "65/65 [==============================] - 22s 342ms/step - loss: 3.8797e-04 - acc: 1.0000 - val_loss: 0.0852 - val_acc: 0.9644\n",
            "Epoch 11/20\n",
            "65/65 [==============================] - 22s 340ms/step - loss: 4.1250e-04 - acc: 1.0000 - val_loss: 0.0955 - val_acc: 0.9671\n",
            "Epoch 12/20\n",
            "65/65 [==============================] - 22s 343ms/step - loss: 4.4408e-04 - acc: 1.0000 - val_loss: 0.0968 - val_acc: 0.9671\n",
            "Epoch 13/20\n",
            "65/65 [==============================] - 22s 344ms/step - loss: 1.6976e-04 - acc: 1.0000 - val_loss: 0.0965 - val_acc: 0.9671\n",
            "Epoch 14/20\n",
            "65/65 [==============================] - 22s 342ms/step - loss: 2.4350e-04 - acc: 1.0000 - val_loss: 0.0978 - val_acc: 0.9671\n",
            "Epoch 15/20\n",
            "65/65 [==============================] - 22s 341ms/step - loss: 3.4778e-04 - acc: 1.0000 - val_loss: 0.1136 - val_acc: 0.9644\n"
          ],
          "name": "stdout"
        }
      ]
    },
    {
      "cell_type": "code",
      "metadata": {
        "colab": {
          "base_uri": "https://localhost:8080/",
          "height": 545
        },
        "id": "Ax6Wh_seXKqv",
        "outputId": "9152ca22-3728-4dc5-995b-a9ff8e129cf5"
      },
      "source": [
        "import matplotlib.pyplot as plt\n",
        "\n",
        "acc = history.history['acc']\n",
        "val_acc = history.history['val_acc']\n",
        "loss = history.history['loss']\n",
        "val_loss = history.history['val_loss']\n",
        "\n",
        "epochs = range(1, len(acc) + 1)\n",
        "\n",
        "plt.plot(epochs, acc, 'bo', label='Training acc')\n",
        "plt.plot(epochs, val_acc, 'b', label='Validation acc')\n",
        "plt.title('Training and validation accuracy')\n",
        "plt.legend()\n",
        "\n",
        "plt.figure()\n",
        "\n",
        "plt.plot(epochs, loss, 'bo', label='Training loss')\n",
        "plt.plot(epochs, val_loss, 'b', label='Validation loss')\n",
        "plt.title('Training and validation loss')\n",
        "plt.legend()\n",
        "\n",
        "plt.show()"
      ],
      "execution_count": null,
      "outputs": [
        {
          "output_type": "display_data",
          "data": {
            "image/png": "[encoded data removed]",
            "text/plain": [
              "<Figure size 432x288 with 1 Axes>"
            ]
          },
          "metadata": {
            "tags": [],
            "needs_background": "light"
          }
        },
        {
          "output_type": "display_data",
          "data": {
            "image/png": "[encoded data removed]",
            "text/plain": [
              "<Figure size 432x288 with 1 Axes>"
            ]
          },
          "metadata": {
            "tags": [],
            "needs_background": "light"
          }
        }
      ]
    },
    {
      "cell_type": "code",
      "metadata": {
        "id": "cgjrf-cv_REE"
      },
      "source": [
        "model.save(r\"/content/drive/MyDrive/DataScience/Saved_Model_General\")"
      ],
      "execution_count": null,
      "outputs": []
    },
    {
      "cell_type": "markdown",
      "metadata": {
        "id": "ztO2dm3i_IPL"
      },
      "source": [
        "# **General/Specific Model**"
      ]
    },
    {
      "cell_type": "markdown",
      "metadata": {
        "id": "JZnq1_Eo_Si_"
      },
      "source": [
        "To test with rotation or non rotation, rerun this cells and training while changing the data agumentation accordingly"
      ]
    },
    {
      "cell_type": "markdown",
      "metadata": {
        "id": "QP4paC1tE0N4"
      },
      "source": [
        "*Change model save path for each model correspondigly"
      ]
    },
    {
      "cell_type": "markdown",
      "metadata": {
        "id": "F-c6rTXsUKnC"
      },
      "source": [
        "Train on FLAME Dataset"
      ]
    },
    {
      "cell_type": "code",
      "metadata": {
        "id": "hjBqLig5slj_"
      },
      "source": [
        "import tensorflow as tf\n",
        "from tensorflow import keras\n",
        "from tensorflow.keras import layers\n",
        "import matplotlib.pyplot as plt\n",
        "\n",
        "image_size = (299, 299) #Expected input of Xception with 3 channels\n",
        "batch_size = 32"
      ],
      "execution_count": null,
      "outputs": []
    },
    {
      "cell_type": "code",
      "metadata": {
        "id": "uypud89iUXB6"
      },
      "source": [
        "model = keras.models.load_model(r\"/content/drive/MyDrive/DataScience/Saved_Model_General\")"
      ],
      "execution_count": null,
      "outputs": []
    },
    {
      "cell_type": "code",
      "metadata": {
        "id": "SSOFOpHlUl2d"
      },
      "source": [
        "directory = r\"/content/drive/MyDrive/DataScience/Data/Train_Revised\" #Location of folder"
      ],
      "execution_count": null,
      "outputs": []
    },
    {
      "cell_type": "code",
      "metadata": {
        "colab": {
          "base_uri": "https://localhost:8080/"
        },
        "id": "R36TmnETUrmD",
        "outputId": "e0725960-8318-478a-c81b-dda4c2cf3368"
      },
      "source": [
        "#Load the data into Python and divide into training and validation\n",
        "#The data is loaded shuffled to reduce bias\n",
        "train_ds = tf.keras.preprocessing.image_dataset_from_directory(\n",
        "    directory,\n",
        "    color_mode=\"rgb\",#3 Channels\n",
        "    batch_size=batch_size,\n",
        "    image_size=image_size, #Image resizing\n",
        "    shuffle=True,\n",
        "    seed=9999,\n",
        "    validation_split=0.15,\n",
        "    subset=\"training\",\n",
        ")"
      ],
      "execution_count": null,
      "outputs": [
        {
          "output_type": "stream",
          "text": [
            "Found 36593 files belonging to 2 classes.\n",
            "Using 31105 files for training.\n"
          ],
          "name": "stdout"
        }
      ]
    },
    {
      "cell_type": "code",
      "metadata": {
        "colab": {
          "base_uri": "https://localhost:8080/"
        },
        "id": "JkyU770jUsMB",
        "outputId": "885628d6-5860-4211-b905-5f3b7db96907"
      },
      "source": [
        "val_ds = tf.keras.preprocessing.image_dataset_from_directory(\n",
        "\n",
        "    directory,\n",
        "    color_mode=\"rgb\",\n",
        "    batch_size=batch_size,\n",
        "    image_size=image_size,\n",
        "    shuffle=True,\n",
        "    seed=9999,\n",
        "    validation_split=0.15,\n",
        "    subset=\"validation\",\n",
        ")"
      ],
      "execution_count": null,
      "outputs": [
        {
          "output_type": "stream",
          "text": [
            "Found 36593 files belonging to 2 classes.\n",
            "Using 5488 files for validation.\n"
          ],
          "name": "stdout"
        }
      ]
    },
    {
      "cell_type": "code",
      "metadata": {
        "id": "jN30OqLWUzw-"
      },
      "source": [
        "#Data augmentation with experimental layers\n",
        "data_augmentation = keras.Sequential(\n",
        "    [\n",
        "        layers.experimental.preprocessing.RandomFlip(\"horizontal_and_vertical\"),\n",
        "        #layers.experimental.preprocessing.RandomRotation(0.1),\n",
        "        layers.experimental.preprocessing.Rescaling(1./255),\n",
        "        #layers.experimental.preprocessing.RandomContrast(0.5),\n",
        "    ]\n",
        ")\n",
        "\n",
        "#Augmentate the complete dataset for trainning and validation\n",
        "augmented_train_ds = train_ds.map(\n",
        "  lambda x, y: (data_augmentation(x, training=True), y))\n",
        "\n",
        "augmented_val_ds = val_ds.map(\n",
        "  lambda x, y: (data_augmentation(x, training=True), y))\n",
        "\n",
        "#buffered prefetching for performance\n",
        "augmented_train_ds = augmented_train_ds.prefetch(buffer_size=32)\n",
        "augmented_val_ds = augmented_val_ds.prefetch(buffer_size=32)"
      ],
      "execution_count": null,
      "outputs": []
    },
    {
      "cell_type": "code",
      "metadata": {
        "id": "3M_A0INHnEUs"
      },
      "source": [
        "from tensorflow.keras.callbacks import EarlyStopping, ModelCheckpoint\n",
        "my_callbacks = [\n",
        "    EarlyStopping(monitor=\"val_loss\", patience=10, restore_best_weights=True),\n",
        "    ModelCheckpoint(filepath='Xception_model.h5', save_best_only=True),\n",
        "]"
      ],
      "execution_count": null,
      "outputs": []
    },
    {
      "cell_type": "code",
      "metadata": {
        "colab": {
          "base_uri": "https://localhost:8080/"
        },
        "id": "YVIP4RvWsQGK",
        "outputId": "a312bcb5-ed15-421f-cd08-dad6bf63322f"
      },
      "source": [
        "history = model.fit(augmented_train_ds,\n",
        "                               epochs=10, \n",
        "                               validation_data=augmented_val_ds,\n",
        "                               callbacks=my_callbacks\n",
        "                    )"
      ],
      "execution_count": null,
      "outputs": [
        {
          "output_type": "stream",
          "text": [
            "Epoch 1/10\n",
            "973/973 [==============================] - 13883s 14s/step - loss: 0.0217 - acc: 0.9950 - val_loss: 0.0444 - val_acc: 0.9851\n",
            "Epoch 2/10\n",
            "973/973 [==============================] - 474s 486ms/step - loss: 0.0064 - acc: 0.9984 - val_loss: 0.0061 - val_acc: 0.9980\n",
            "Epoch 3/10\n",
            "973/973 [==============================] - 474s 486ms/step - loss: 0.0098 - acc: 0.9977 - val_loss: 0.0087 - val_acc: 0.9978\n",
            "Epoch 4/10\n",
            "973/973 [==============================] - 474s 486ms/step - loss: 0.0064 - acc: 0.9987 - val_loss: 0.0233 - val_acc: 0.9914\n",
            "Epoch 5/10\n",
            "973/973 [==============================] - 473s 485ms/step - loss: 0.0105 - acc: 0.9975 - val_loss: 0.0110 - val_acc: 0.9973\n",
            "Epoch 6/10\n",
            "973/973 [==============================] - 472s 485ms/step - loss: 0.0051 - acc: 0.9988 - val_loss: 0.0029 - val_acc: 0.9993\n",
            "Epoch 7/10\n",
            "973/973 [==============================] - 473s 486ms/step - loss: 0.0050 - acc: 0.9987 - val_loss: 0.0025 - val_acc: 0.9991\n",
            "Epoch 8/10\n",
            "973/973 [==============================] - 476s 487ms/step - loss: 0.0042 - acc: 0.9988 - val_loss: 0.0020 - val_acc: 0.9995\n",
            "Epoch 9/10\n",
            "973/973 [==============================] - 473s 485ms/step - loss: 0.0041 - acc: 0.9989 - val_loss: 0.0147 - val_acc: 0.9947\n",
            "Epoch 10/10\n",
            "973/973 [==============================] - 473s 486ms/step - loss: 0.0084 - acc: 0.9978 - val_loss: 0.0037 - val_acc: 0.9991\n"
          ],
          "name": "stdout"
        }
      ]
    },
    {
      "cell_type": "code",
      "metadata": {
        "colab": {
          "base_uri": "https://localhost:8080/",
          "height": 545
        },
        "id": "dedvyxGtsvcD",
        "outputId": "d679627f-df1b-46cf-8f8f-e79ea00937ca"
      },
      "source": [
        "import matplotlib.pyplot as plt\n",
        "\n",
        "acc = history.history['acc']\n",
        "val_acc = history.history['val_acc']\n",
        "loss = history.history['loss']\n",
        "val_loss = history.history['val_loss']\n",
        "\n",
        "epochs = range(1, len(acc) + 1)\n",
        "\n",
        "plt.plot(epochs, acc, 'bo', label='Training acc')\n",
        "plt.plot(epochs, val_acc, 'b', label='Validation acc')\n",
        "plt.title('Training and validation accuracy')\n",
        "plt.legend()\n",
        "\n",
        "plt.figure()\n",
        "\n",
        "plt.plot(epochs, loss, 'bo', label='Training loss')\n",
        "plt.plot(epochs, val_loss, 'b', label='Validation loss')\n",
        "plt.title('Training and validation loss')\n",
        "plt.legend()\n",
        "\n",
        "plt.show()"
      ],
      "execution_count": null,
      "outputs": [
        {
          "output_type": "display_data",
          "data": {
            "image/png": "[encoded data removed]",
            "text/plain": [
              "<Figure size 432x288 with 1 Axes>"
            ]
          },
          "metadata": {
            "tags": [],
            "needs_background": "light"
          }
        },
        {
          "output_type": "display_data",
          "data": {
            "image/png": "[encoded data removed]",
            "text/plain": [
              "<Figure size 432x288 with 1 Axes>"
            ]
          },
          "metadata": {
            "tags": [],
            "needs_background": "light"
          }
        }
      ]
    },
    {
      "cell_type": "code",
      "metadata": {
        "id": "2m2yPHjfVS0w"
      },
      "source": [
        "model.save(r\"/content/drive/MyDrive/DataScience/Saved_Model_General/Specific_No_Rot\")"
      ],
      "execution_count": null,
      "outputs": []
    },
    {
      "cell_type": "markdown",
      "metadata": {
        "id": "KgyzAxBr_RqI"
      },
      "source": [
        "# **Test**"
      ]
    },
    {
      "cell_type": "code",
      "metadata": {
        "id": "ujGQg304_x78"
      },
      "source": [
        "import tensorflow as tf\n",
        "from tensorflow import keras\n",
        "from tensorflow.keras import layers\n",
        "import matplotlib.pyplot as plt\n",
        "\n",
        "image_size = (299, 299) #Expected input of Xception with 3 channels\n",
        "batch_size = 32"
      ],
      "execution_count": null,
      "outputs": []
    },
    {
      "cell_type": "code",
      "metadata": {
        "id": "dfSh3srq_Uzd",
        "colab": {
          "base_uri": "https://localhost:8080/"
        },
        "outputId": "4c76e581-3ad0-46d6-d450-178e82f59abc"
      },
      "source": [
        "image_size = (299, 299) #Expected input of Xception with 3 channels\n",
        "batch_size = 32\n",
        "test_ds = tf.keras.preprocessing.image_dataset_from_directory(\n",
        "    r\"/content/drive/MyDrive/DataScience/Data/Test _Revised\",\n",
        "    color_mode=\"rgb\",\n",
        "    batch_size=batch_size,\n",
        "    image_size=image_size,\n",
        "    shuffle=True,\n",
        ")\n"
      ],
      "execution_count": null,
      "outputs": [
        {
          "output_type": "stream",
          "text": [
            "Found 7924 files belonging to 2 classes.\n"
          ],
          "name": "stdout"
        }
      ]
    },
    {
      "cell_type": "code",
      "metadata": {
        "id": "EMaVyIkG_b_V"
      },
      "source": [
        "from tensorflow.keras import layers\n",
        "#Data augmentation with experimental layers\n",
        "data_augmentation = keras.Sequential(\n",
        "    [\n",
        "        #layers.experimental.preprocessing.RandomFlip(\"horizontal_and_vertical\"),\n",
        "        #layers.experimental.preprocessing.RandomRotation(0.1),\n",
        "        layers.experimental.preprocessing.Rescaling(1./255),\n",
        "    ]\n",
        ")\n",
        "\n",
        "#Augmentate the complete dataset for trainning and validation\n",
        "augmented_test_ds = test_ds.map(\n",
        "  lambda x, y: (data_augmentation(x, training=True), y))\n",
        "\n",
        "\n",
        "\n",
        "#buffered prefetching for performance\n",
        "augmented_test_ds = augmented_test_ds.prefetch(buffer_size=32)"
      ],
      "execution_count": null,
      "outputs": []
    },
    {
      "cell_type": "markdown",
      "metadata": {
        "id": "Vnmc7qkIXWrB"
      },
      "source": [
        "General Case on Revised Test"
      ]
    },
    {
      "cell_type": "code",
      "metadata": {
        "id": "4Pyabe-tFqjZ"
      },
      "source": [
        "model = keras.models.load_model(r\"/content/drive/MyDrive/DataScience/Saved_Model_General\")"
      ],
      "execution_count": null,
      "outputs": []
    },
    {
      "cell_type": "code",
      "metadata": {
        "colab": {
          "base_uri": "https://localhost:8080/"
        },
        "id": "4CYYrkWWXxSY",
        "outputId": "a2bfac01-6029-41c6-c99f-b2f34264ed99"
      },
      "source": [
        "print(\"Evaluate on test data\")\n",
        "results = model.evaluate(augmented_test_ds)\n",
        "print(\"test loss, test acc:\", results)"
      ],
      "execution_count": null,
      "outputs": [
        {
          "output_type": "stream",
          "text": [
            "Evaluate on test data\n",
            "248/248 [==============================] - 2959s 11s/step - loss: 2.2603 - acc: 0.6233\n",
            "test loss, test acc: [2.2603116035461426, 0.623296320438385]\n"
          ],
          "name": "stdout"
        }
      ]
    },
    {
      "cell_type": "markdown",
      "metadata": {
        "id": "oWMkmzAkIwzF"
      },
      "source": [
        "General/Specific Rotation applied"
      ]
    },
    {
      "cell_type": "code",
      "metadata": {
        "id": "RB3UFZNAAEoh"
      },
      "source": [
        "model = keras.models.load_model(r\"/content/drive/MyDrive/DataScience/Saved_Model_General/Specific_Rot\")"
      ],
      "execution_count": null,
      "outputs": []
    },
    {
      "cell_type": "code",
      "metadata": {
        "colab": {
          "base_uri": "https://localhost:8080/"
        },
        "id": "EuckewVW_7Qz",
        "outputId": "21979591-4b10-4f9a-fb8a-774b1e5e5c00"
      },
      "source": [
        "print(\"Evaluate on test data\")\n",
        "results = model.evaluate(augmented_test_ds)\n",
        "print(\"test loss, test acc:\", results)"
      ],
      "execution_count": null,
      "outputs": [
        {
          "output_type": "stream",
          "text": [
            "Evaluate on test data\n",
            "248/248 [==============================] - 2818s 11s/step - loss: 1.5636 - acc: 0.7249\n",
            "test loss, test acc: [1.5635502338409424, 0.724886417388916]\n"
          ],
          "name": "stdout"
        }
      ]
    },
    {
      "cell_type": "markdown",
      "metadata": {
        "id": "Wgz7rfnBI7Bb"
      },
      "source": [
        "General/Specifc **No** Rotation applied"
      ]
    },
    {
      "cell_type": "code",
      "metadata": {
        "id": "jnXMbC9ZJNRM"
      },
      "source": [
        "model = keras.models.load_model(r\"/content/drive/MyDrive/DataScience/Saved_Model_General/Specific_No_Rot\")"
      ],
      "execution_count": null,
      "outputs": []
    },
    {
      "cell_type": "code",
      "metadata": {
        "colab": {
          "base_uri": "https://localhost:8080/"
        },
        "id": "3qhl0bxOI7Bc",
        "outputId": "5948b890-c9c4-4b57-f135-099521a61fbe"
      },
      "source": [
        "print(\"Evaluate on test data\")\n",
        "results = model.evaluate(augmented_test_ds)\n",
        "print(\"test loss, test acc:\", results)"
      ],
      "execution_count": null,
      "outputs": [
        {
          "output_type": "stream",
          "text": [
            "Evaluate on test data\n",
            "248/248 [==============================] - 31s 120ms/step - loss: 0.3795 - acc: 0.8973\n",
            "test loss, test acc: [0.3794694244861603, 0.8972740769386292]\n"
          ],
          "name": "stdout"
        }
      ]
    }
  ]
}